{
 "cells": [
  {
   "cell_type": "markdown",
   "metadata": {},
   "source": [
    "# 0) Sjabloon"
   ]
  },
  {
   "cell_type": "code",
   "execution_count": null,
   "metadata": {},
   "outputs": [],
   "source": [
    "from PIL import Image\n",
    "import numpy as np\n",
    "\n",
    "breedte = int(input(\"geef de breedte in:\"))\n",
    "\n",
    "hoogte = breedte // 2\n",
    "\n",
    "r_out = np.zeros((hoogte, breedte))\n",
    "g_out = np.zeros((hoogte, breedte))\n",
    "b_out = np.zeros((hoogte, breedte))\n",
    "\n",
    "#Matrix bewerkingen komen hier:\n",
    "\n",
    "\n",
    "\n",
    "# converteer drie matrices terug naar een afbeelding\n",
    "r_image_out = Image.fromarray(np.uint8(r_out))\n",
    "g_image_out = Image.fromarray(np.uint8(g_out))\n",
    "b_image_out = Image.fromarray(np.uint8(b_out))\n",
    "output_im = Image.merge(\"RGB\", (r_image_out, g_image_out, b_image_out))\n",
    "output_im.show()\n",
    "\n"
   ]
  },
  {
   "cell_type": "markdown",
   "metadata": {},
   "source": [
    "# 1) Vierkanten in een rechthoek"
   ]
  },
  {
   "cell_type": "code",
   "execution_count": 11,
   "metadata": {},
   "outputs": [],
   "source": [
    "from PIL import Image\n",
    "import numpy as np\n",
    "\n",
    "breedte = int(input(\"geef de breedte in:\"))\n",
    "\n",
    "hoogte = breedte // 2\n",
    "\n",
    "r_out = np.zeros((hoogte, breedte))\n",
    "g_out = np.zeros((hoogte, breedte))\n",
    "b_out = np.zeros((hoogte, breedte))\n",
    "\n",
    "#tekenen van figuur:\n",
    "\n",
    "for i in range(hoogte):\n",
    "    for j in range(breedte):\n",
    "\n",
    "     #groene vierkant die de helft van de figuur inneemt:\n",
    "        if j <= hoogte:\n",
    "            r_out[i][j] = 0\n",
    "            g_out[i][j] = 255\n",
    "            b_out[i][j] = 0\n",
    "\n",
    "     #grijze vierkantjes rechts:\n",
    "            \n",
    "        if hoogte < j < breedte:\n",
    "            r_out[i][j] = 150\n",
    "            g_out[i][j] = 150\n",
    "            b_out[i][j] = 150\n",
    "\n",
    "     #rode vierkantjes in grijs gebied:\n",
    "        \n",
    "        if (hoogte < j < (3 * (breedte/4)) and i > (hoogte/2)) or (i < (hoogte/2) and (3 * (breedte/4)) < j ) :\n",
    "            r_out[i][j] = 255\n",
    "            g_out[i][j] = 0\n",
    "            b_out[i][j] = 0\n",
    "\n",
    "\n",
    "# converteer drie matrices terug naar een afbeelding\n",
    "r_image_out = Image.fromarray(np.uint8(r_out))\n",
    "g_image_out = Image.fromarray(np.uint8(g_out))\n",
    "b_image_out = Image.fromarray(np.uint8(b_out))\n",
    "output_im = Image.merge(\"RGB\", (r_image_out, g_image_out, b_image_out))\n",
    "output_im.show()"
   ]
  },
  {
   "cell_type": "markdown",
   "metadata": {},
   "source": [
    "# 2) Cirkel in het midden van een vierkant"
   ]
  },
  {
   "cell_type": "code",
   "execution_count": 17,
   "metadata": {},
   "outputs": [],
   "source": [
    "from PIL import Image\n",
    "import numpy as np\n",
    "from math import sqrt\n",
    "\n",
    "\n",
    "b = int(input(\"Geef de breedte in:\"))\n",
    "straal = int(input(\"Geef de gewenste straal van de cirkel in:\"))\n",
    "\n",
    "breedte = b\n",
    "hoogte = b\n",
    "\n",
    "r_out = np.zeros((hoogte, breedte))\n",
    "g_out = np.zeros((hoogte, breedte))\n",
    "b_out = np.zeros((hoogte, breedte))\n",
    "\n",
    "#Tekenen van figuur:\n",
    "\n",
    "for i in range(hoogte):\n",
    "    for j in range(breedte):\n",
    "    # Pietje Van Agoras om de afstand tot het middelpunt van de cirkel te berekenen.\n",
    "    # Als die afstand kleiner is dan de straal moet die pixel de kleur van de cirkel krijgen.\n",
    "        if sqrt(((((hoogte/2)-i)**2)+ ((breedte/2)-j)**2)) < straal:\n",
    "            r_out[i][j] = 255\n",
    "            g_out[i][j] = 0\n",
    "            b_out[i][j] = 0\n",
    "        \n",
    "        else: \n",
    "            r_out[i][j] = 0\n",
    "            g_out[i][j] = 255\n",
    "            b_out[i][j] = 0\n",
    "\n",
    "\n",
    "\n",
    "# converteer drie matrices terug naar een afbeelding\n",
    "r_image_out = Image.fromarray(np.uint8(r_out))\n",
    "g_image_out = Image.fromarray(np.uint8(g_out))\n",
    "b_image_out = Image.fromarray(np.uint8(b_out))\n",
    "output_im = Image.merge(\"RGB\", (r_image_out, g_image_out, b_image_out))\n",
    "output_im.show()"
   ]
  },
  {
   "cell_type": "markdown",
   "metadata": {},
   "source": [
    "# 3) Vierkant met diagonaal. LB naar RO"
   ]
  },
  {
   "cell_type": "code",
   "execution_count": 1,
   "metadata": {},
   "outputs": [],
   "source": [
    "from PIL import Image\n",
    "import numpy as np\n",
    "\n",
    "breedte = int(input(\"geef de breedte in:\"))\n",
    "\n",
    "hoogte = breedte\n",
    "\n",
    "r_out = np.zeros((hoogte, breedte))\n",
    "g_out = np.zeros((hoogte, breedte))\n",
    "b_out = np.zeros((hoogte, breedte))\n",
    "\n",
    "#Matrix bewerkingen komen hier:\n",
    "\n",
    "for i in range(hoogte):\n",
    "    for j in range(breedte):\n",
    "\n",
    "        if j >= i:\n",
    "            r_out[i][j] = 255\n",
    "            g_out[i][j] = 0\n",
    "            b_out[i][j] = 0\n",
    "        else: \n",
    "            r_out[i][j] = 0\n",
    "            g_out[i][j] = 255\n",
    "            b_out[i][j] = 0\n",
    "\n",
    "        \n",
    "\n",
    "\n",
    "# converteer drie matrices terug naar een afbeelding\n",
    "r_image_out = Image.fromarray(np.uint8(r_out))\n",
    "g_image_out = Image.fromarray(np.uint8(g_out))\n",
    "b_image_out = Image.fromarray(np.uint8(b_out))\n",
    "output_im = Image.merge(\"RGB\", (r_image_out, g_image_out, b_image_out))\n",
    "output_im.show()"
   ]
  },
  {
   "cell_type": "markdown",
   "metadata": {},
   "source": [
    "# 4) Overlappende cirkels"
   ]
  }
 ],
 "metadata": {
  "kernelspec": {
   "display_name": "Python 3",
   "language": "python",
   "name": "python3"
  },
  "language_info": {
   "codemirror_mode": {
    "name": "ipython",
    "version": 3
   },
   "file_extension": ".py",
   "mimetype": "text/x-python",
   "name": "python",
   "nbconvert_exporter": "python",
   "pygments_lexer": "ipython3",
   "version": "3.12.0"
  }
 },
 "nbformat": 4,
 "nbformat_minor": 2
}
