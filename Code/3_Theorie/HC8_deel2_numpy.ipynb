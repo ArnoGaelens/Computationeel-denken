{
 "cells": [
  {
   "cell_type": "code",
   "execution_count": 1,
   "metadata": {},
   "outputs": [
    {
     "name": "stdout",
     "output_type": "stream",
     "text": [
      "int32\n",
      "(2, 3)\n",
      "float64\n",
      "(3, 2)\n",
      "bool\n",
      "(3, 3)\n"
     ]
    }
   ],
   "source": [
    "import numpy as np\n",
    "\n",
    "x = np.array([[1, 2, 3],[4, 5, 6]])\n",
    "print(x.dtype)\n",
    "print(x.shape)\n",
    "\n",
    "\n",
    "y = np.array([[4.3, 3.2], [5.6 , 6.3], [5.3, 4.1]])\n",
    "print(y.dtype)\n",
    "print(y.shape)\n",
    "\n",
    "\n",
    "z = np.array([[False, False, True],[True, False, False],[True, False, True]])\n",
    "print(z.dtype)\n",
    "print(z.shape)"
   ]
  },
  {
   "cell_type": "code",
   "execution_count": null,
   "metadata": {},
   "outputs": [],
   "source": [
    "import numpy as np\n",
    "\n",
    "x = np.array([[1, 2, 3],[4, 5, 6]])\n",
    "print(x[1,2])\n",
    "print(x[:,1])\n",
    "\n",
    "y = np.array([[4.3, 3.2], [5.6 , 6.3], [5.3, 4.1]])\n",
    "print(y[2,1])\n",
    "print(y[:,1])\n",
    "\n",
    "z = np.array([[False, False, True],[True, False, False],[True, False, True]])\n",
    "print(z[1,2])\n",
    "print(z[:,1])"
   ]
  },
  {
   "cell_type": "code",
   "execution_count": 1,
   "metadata": {},
   "outputs": [
    {
     "name": "stdout",
     "output_type": "stream",
     "text": [
      "[[0 0 0]\n",
      " [0 0 0]]\n",
      "[[1 1 1]\n",
      " [1 1 1]\n",
      " [1 1 1]\n",
      " [1 1 1]]\n",
      "[[0. 0. 0.]\n",
      " [0. 0. 0.]]\n",
      "[[1. 1. 1.]\n",
      " [1. 1. 1.]\n",
      " [1. 1. 1.]\n",
      " [1. 1. 1.]]\n",
      "[[False False False]\n",
      " [False False False]]\n",
      "[[ True  True  True]\n",
      " [ True  True  True]\n",
      " [ True  True  True]\n",
      " [ True  True  True]]\n"
     ]
    }
   ],
   "source": [
    "import numpy as np\n",
    "\n",
    "x1 = np.zeros((2,3), dtype=int)\n",
    "print(x1)\n",
    "\n",
    "x2 = np.ones((4,3), dtype=int)\n",
    "print(x2)\n",
    "\n",
    "y1 = np.zeros((2,3), dtype=float)\n",
    "print(y1)\n",
    "\n",
    "y2 = np.ones((4,3), dtype=float)\n",
    "print(y2)\n",
    "\n",
    "z1 = np.zeros((2,3), dtype=bool)\n",
    "print(z1)\n",
    "\n",
    "z2 = np.ones((4,3), dtype=bool)\n",
    "print(z2)"
   ]
  },
  {
   "cell_type": "code",
   "execution_count": null,
   "metadata": {},
   "outputs": [],
   "source": [
    "import numpy as np\n",
    "\n",
    "matrix = np.zeros((10,3), dtype=float)\n",
    "print(matrix)"
   ]
  },
  {
   "cell_type": "code",
   "execution_count": 2,
   "metadata": {},
   "outputs": [
    {
     "name": "stdout",
     "output_type": "stream",
     "text": [
      "[[1.5 0.5 0.6]\n",
      " [0.4 1.  0.2]\n",
      " [0.6 0.4 0.8]]\n"
     ]
    }
   ],
   "source": [
    "import numpy as np\n",
    "\n",
    "a = np.array([[.7, .2, .1],[.3, .6, .1],[.5, .1, .4]])\n",
    "b = np.array([[.8, .3, .5],[.1, .4, .1],[.1, .3, .4]])\n",
    "c = np.zeros((3,3), dtype=float)\n",
    "\n",
    "rijen = a.shape[0]\n",
    "kolommen = a.shape[1]\n",
    "\n",
    "for i in range (rijen):\n",
    "    for j in range (kolommen):\n",
    "        c[i][j] = a[i][j] + b [i][j]\n",
    "        \n",
    "print(c)"
   ]
  },
  {
   "cell_type": "code",
   "execution_count": 3,
   "metadata": {},
   "outputs": [
    {
     "name": "stdout",
     "output_type": "stream",
     "text": [
      "[[0.59 0.32 0.41]\n",
      " [0.31 0.36 0.25]\n",
      " [0.45 0.31 0.42]]\n"
     ]
    }
   ],
   "source": [
    "import numpy as np\n",
    "\n",
    "a = np.array([[.7, .2, .1],[.3, .6, .1],[.5, .1, .4]])\n",
    "b = np.array([[.8, .3, .5],[.1, .4, .1],[.1, .3, .4]])\n",
    "c = np.zeros((3,3), dtype=float)\n",
    "\n",
    "dimensie = a.shape[0]\n",
    "\n",
    "for i in range (dimensie):\n",
    "    for j in range (dimensie):\n",
    "        for k in range (dimensie):\n",
    "            c[i][j] = c[i][j] + a[i][k] * b [k][j]\n",
    "        \n",
    "print(c)"
   ]
  },
  {
   "cell_type": "code",
   "execution_count": 4,
   "metadata": {},
   "outputs": [
    {
     "name": "stdout",
     "output_type": "stream",
     "text": [
      "Geef aantal rijen:19\n",
      "Geef aantal kolommen:12\n",
      "Geef probabiliteit p in:0.3\n",
      ". . . . * . . . * . . . \n",
      "* . * . * . . . . . * . \n",
      "* . * . . . * . * . . . \n",
      ". . . . . . . . * . . . \n",
      "* . . . * . * * . . . . \n",
      ". . . . . * . * * * . . \n",
      ". . . * . . * * . * . * \n",
      "* . * . . . . . . . * . \n",
      ". * . . . . * . . . . . \n",
      ". . . . . . . * . . * . \n",
      ". . . . * . . . * * . . \n",
      ". * . . . . . . . * * * \n",
      ". . . . * . . * * . . . \n",
      "* . * * . . . . * . * . \n",
      ". . * . . * . * . . . . \n",
      "* * * . * . . . . * . . \n",
      ". * * . . . . * . * . . \n",
      ". . . . * . * . . . . . \n",
      ". * . . . . . . * . * . \n",
      "\n",
      "1 2 1 3 * 2 0 1 * 2 1 1 \n",
      "* 4 * 4 * 3 1 3 2 3 * 1 \n",
      "* 4 * 3 1 2 * 3 * 3 1 1 \n",
      "2 3 1 2 1 3 3 5 * 2 0 0 \n",
      "* 1 0 1 * 3 * * 5 3 1 0 \n",
      "1 1 1 2 3 * 6 * * * 3 1 \n",
      "1 2 2 * 2 2 * * 5 * 4 * \n",
      "* 3 * 2 1 2 3 3 2 2 * 2 \n",
      "2 * 2 1 0 1 * 2 1 2 2 2 \n",
      "1 1 1 1 1 2 2 * 3 3 * 1 \n",
      "1 1 1 1 * 1 1 2 * * 5 3 \n",
      "1 * 1 2 2 2 1 3 5 * * * \n",
      "2 3 3 3 * 1 1 * * 5 4 3 \n",
      "* 3 * * 3 2 3 4 * 3 * 1 \n",
      "3 6 * 5 3 * 2 * 3 3 2 1 \n",
      "* * * 4 * 2 3 2 4 * 2 0 \n",
      "3 * * 4 2 3 2 * 3 * 2 0 \n",
      "2 3 3 2 * 2 * 3 3 3 2 1 \n",
      "1 * 1 1 1 2 1 2 * 2 * 1 \n",
      "\n"
     ]
    }
   ],
   "source": [
    "import numpy as np\n",
    "from random import random\n",
    "\n",
    "def initialiseerBommentapijt(m, n, p):\n",
    "    bommen = np.zeros((m, n), dtype=bool)\n",
    "    for i in range(m):\n",
    "        for j in range(n):\n",
    "            rand  = random();\n",
    "            if (rand < p):\n",
    "                bommen[i][j] = True\n",
    "            else:\n",
    "                bommen[i][j] = False\n",
    "    return bommen\n",
    "\n",
    "def initialiseerBurenMatrix(bommentapijt):\n",
    "    matrixAantallen = np.zeros((m, n), dtype=int)\n",
    "    for i in range(m):\n",
    "        for j in range(n):\n",
    "            if (bommentapijt[i][j]):\n",
    "                matrixAantallen[i][j] = -1\n",
    "            else:\n",
    "                matrixAantallen[i][j] = 0\n",
    "                for x in range(i-1, i+2, 1):\n",
    "                    for y in range(j-1, j+2, 1):\n",
    "                        if (x >= 0 and  x < m and y >=0 and y < n):\n",
    "                            if(bommentapijt[x][y]):\n",
    "                                matrixAantallen[i][j] += 1\n",
    "    return matrixAantallen                \n",
    "\n",
    "def drukBommentapijt(bommentapijt):\n",
    "    for i in range(m):\n",
    "        for j in range(n):\n",
    "            if (bommentapijt[i][j]):\n",
    "                print(\"* \", end = \"\")\n",
    "            else:\n",
    "                print(\". \", end = \"\")\n",
    "        print()\n",
    "    print()\n",
    "        \n",
    "        \n",
    "def drukBurenMatrix(matrixAantallen):\n",
    "    for i in range(m):\n",
    "        for j in range(n):\n",
    "            if (burenMatrix[i][j] == -1):\n",
    "                print(\"* \", end = \"\")\n",
    "            else:\n",
    "                print(matrixAantallen[i][j], end = \" \")\n",
    "        print()\n",
    "    print()\n",
    "        \n",
    "m = int(input(\"Geef aantal rijen:\"))\n",
    "n = int(input(\"Geef aantal kolommen:\"))\n",
    "p = float(input(\"Geef probabiliteit p in:\"))\n",
    "\n",
    "bommenTapijt = initialiseerBommentapijt(m, n, p)\n",
    "drukBommentapijt(bommenTapijt)\n",
    "burenMatrix = initialiseerBurenMatrix(bommenTapijt)\n",
    "drukBurenMatrix(burenMatrix)\n"
   ]
  },
  {
   "cell_type": "code",
   "execution_count": null,
   "metadata": {},
   "outputs": [],
   "source": []
  }
 ],
 "metadata": {
  "kernelspec": {
   "display_name": "Python 3 (ipykernel)",
   "language": "python",
   "name": "python3"
  },
  "language_info": {
   "codemirror_mode": {
    "name": "ipython",
    "version": 3
   },
   "file_extension": ".py",
   "mimetype": "text/x-python",
   "name": "python",
   "nbconvert_exporter": "python",
   "pygments_lexer": "ipython3",
   "version": "3.12.0"
  }
 },
 "nbformat": 4,
 "nbformat_minor": 4
}
