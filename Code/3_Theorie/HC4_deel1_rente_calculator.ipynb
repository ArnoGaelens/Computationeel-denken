{
 "cells": [
  {
   "cell_type": "code",
   "execution_count": null,
   "metadata": {},
   "outputs": [],
   "source": [
    "startBedrag = float(input(\"Geef het startbedrag: \"))\n",
    "rentevoet = float(input(\"Geef de rentevoet: \"))\n",
    "aantalJaar = int(input(\"Geef het aantal jaar: \"))\n",
    "\n",
    "factor = 1.0 + rentevoet\n",
    "eindBedrag = startBedrag\n",
    "\n",
    "for i in range (0, aantalJaar, 1):\n",
    "    eindBedrag = eindBedrag * factor\n",
    "\n",
    "print(\"Het eindbedrag is: \", eindBedrag)"
   ]
  },
  {
   "cell_type": "code",
   "execution_count": null,
   "metadata": {},
   "outputs": [],
   "source": [
    "nummer = int(input(\"geef een getal: \"))\n",
    "print(nummer * nummer)\n",
    "print(nummer)\n",
    "if (nummer > 0):\n",
    "    nummer  = nummer + nummer + nummer\n",
    "    print(nummer)\n",
    "    print(\"dit is een test\")"
   ]
  },
  {
   "cell_type": "code",
   "execution_count": null,
   "metadata": {},
   "outputs": [],
   "source": [
    "nummer = int(input(\"geef een getal: \"))\n",
    "print(nummer * nummer)\n"
   ]
  }
 ],
 "metadata": {
  "kernelspec": {
   "display_name": "Python 3 (ipykernel)",
   "language": "python",
   "name": "python3"
  },
  "language_info": {
   "codemirror_mode": {
    "name": "ipython",
    "version": 3
   },
   "file_extension": ".py",
   "mimetype": "text/x-python",
   "name": "python",
   "nbconvert_exporter": "python",
   "pygments_lexer": "ipython3",
   "version": "3.10.6"
  }
 },
 "nbformat": 4,
 "nbformat_minor": 4
}
