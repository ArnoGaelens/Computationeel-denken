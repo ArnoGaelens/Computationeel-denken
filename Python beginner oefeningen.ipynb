{
 "cells": [
  {
   "cell_type": "markdown",
   "metadata": {},
   "source": [
    "Schrijf een Python-programma dat de gebruiker begroet en vraagt om hun naam in te voeren. Het programma moet vervolgens de naam van de gebruiker gebruiken om een persoonlijke begroeting af te drukken."
   ]
  },
  {
   "cell_type": "code",
   "execution_count": null,
   "metadata": {},
   "outputs": [],
   "source": [
    "naam = str(input(\"Wat is jouw naam?\"))\n",
    "leeftijd = int(input(\"Hoe oud ben je?\"))\n",
    "\n",
    "print(\"Goedemorgen\", naam)\n"
   ]
  },
  {
   "cell_type": "markdown",
   "metadata": {},
   "source": [
    "Schrijf een Python-programma dat de gebruiker vraagt om twee getallen in te voeren en vervolgens de vier basisrekenkundige bewerkingen (optellen, aftrekken, vermenigvuldigen en delen) op deze getallen uitvoert en de resultaten afdrukt."
   ]
  },
  {
   "cell_type": "code",
   "execution_count": 6,
   "metadata": {},
   "outputs": [
    {
     "name": "stdout",
     "output_type": "stream",
     "text": [
      "0.26666666666666666\n"
     ]
    }
   ],
   "source": [
    "a = int(input(\"Getal1:\"))\n",
    "b = int(input(\"Getal2\"))\n",
    "c = int(input(\"Getal3\"))\n",
    "u = str(input(\"som/verschil/product/quotient\"))\n",
    "\n",
    "if u == \"som\":\n",
    "    d = a+b+c\n",
    "elif u == \"verschil\":\n",
    "    d = a-b-c\n",
    "elif u == \"product\":\n",
    "    d = a*b*c\n",
    "elif u == \"quotient\":\n",
    "    d = a/b/c\n",
    "else:\n",
    "    print(\"ERROR\")\n",
    "\n",
    "print(d)"
   ]
  },
  {
   "cell_type": "markdown",
   "metadata": {},
   "source": [
    "Vraag de gebruiker om een zin in te voeren en schrijf een Python-programma dat de zin omkeert en de omgekeerde versie afdrukt. Bijvoorbeeld, als de gebruiker \"Python is geweldig\" invoert, zou het programma \"wonderful is Python\" moeten afdrukken."
   ]
  },
  {
   "cell_type": "code",
   "execution_count": 8,
   "metadata": {},
   "outputs": [
    {
     "name": "stdout",
     "output_type": "stream",
     "text": [
      "draai de woorden uit deze zin om\n"
     ]
    }
   ],
   "source": [
    "zin = str(input(\"voer een zin in:\"))\n",
    "\n",
    "woorden = zin.split()\n",
    "\n",
    "Omgekeerde_zin = ' '.join(woorden[::-1])\n",
    "\n",
    "print(Omgekeerde_zin)\n"
   ]
  },
  {
   "cell_type": "markdown",
   "metadata": {},
   "source": [
    "Schrijf een programma dat de gebruiker vraagt om een getal in te voeren en vervolgens controleert of het getal even of oneven is. Druk het resultaat af."
   ]
  },
  {
   "cell_type": "code",
   "execution_count": 10,
   "metadata": {},
   "outputs": [
    {
     "name": "stdout",
     "output_type": "stream",
     "text": [
      "dit getal is even\n"
     ]
    }
   ],
   "source": [
    "getal = int(input(\"Geef een getal in\"))\n",
    "\n",
    "if getal % 2 == 0:\n",
    "    print(\"dit getal is even\")\n",
    "else:\n",
    "    print(\"dit getal is oneven\")\n"
   ]
  },
  {
   "cell_type": "markdown",
   "metadata": {},
   "source": [
    "Schrijf een eenvoudig raadspel waarin de computer een willekeurig getal genereert tussen 1 en 100, en de speler moet proberen het getal te raden. Geef aanwijzingen of het geraden getal te hoog of te laag is totdat de speler het juiste getal raadt."
   ]
  },
  {
   "cell_type": "code",
   "execution_count": 2,
   "metadata": {},
   "outputs": [
    {
     "name": "stdout",
     "output_type": "stream",
     "text": [
      "Het ingevoerde getal moet tussen de 0 en 100 liggen. probeer opnieuw\n",
      "Lager!\n",
      "Hoger!\n",
      "Lager!\n",
      "Correct!\n"
     ]
    }
   ],
   "source": [
    "import random\n",
    "\n",
    "random_getal = random.randint(1, 100)\n",
    "\n",
    "while True:\n",
    "    player = int(input(\"Geef een getal in tussen de 0 en 100\"))\n",
    "\n",
    "    if player < 1 or player > 100:\n",
    "        print(\"Het ingevoerde getal moet tussen de 0 en 100 liggen. probeer opnieuw\")\n",
    "    elif player == random_getal:\n",
    "        print(\"Correct!\")\n",
    "        break\n",
    "    elif player < random_getal:\n",
    "        print(\"Hoger!\")\n",
    "    elif player > random_getal:\n",
    "        print(\"Lager!\")\n",
    "   \n",
    "\n"
   ]
  },
  {
   "cell_type": "markdown",
   "metadata": {},
   "source": [
    "Som van getallen in een lijst: Schrijf een programma dat de som van alle getallen in een lijst berekent."
   ]
  },
  {
   "cell_type": "code",
   "execution_count": 3,
   "metadata": {},
   "outputs": [
    {
     "name": "stdout",
     "output_type": "stream",
     "text": [
      "13\n"
     ]
    }
   ],
   "source": [
    "a = int(input(\"Getal 1:\"))\n",
    "b = int(input(\"Getal 2:\"))\n",
    "c = int(input(\"Getal 3:\"))\n",
    "d = int(input(\"Getal 4:\"))\n",
    "\n",
    "lijst = [a,b,c,d]\n",
    "\n",
    "\n",
    "print(sum(lijst))\n",
    "\n"
   ]
  },
  {
   "cell_type": "markdown",
   "metadata": {},
   "source": [
    "Zoek het grootste getal: Schrijf een programma dat het grootste getal in een lijst vindt."
   ]
  },
  {
   "cell_type": "code",
   "execution_count": 4,
   "metadata": {},
   "outputs": [
    {
     "name": "stdout",
     "output_type": "stream",
     "text": [
      "5\n"
     ]
    }
   ],
   "source": [
    "a = int(input(\"Getal 1:\"))\n",
    "b = int(input(\"Getal 2:\"))\n",
    "c = int(input(\"Getal 3:\"))\n",
    "d = int(input(\"Getal 4:\"))\n",
    "\n",
    "lijst = [a,b,c,d]\n",
    "\n",
    "print(max(lijst))"
   ]
  },
  {
   "cell_type": "markdown",
   "metadata": {},
   "source": [
    "    "
   ]
  },
  {
   "cell_type": "code",
   "execution_count": 8,
   "metadata": {},
   "outputs": [
    {
     "name": "stdout",
     "output_type": "stream",
     "text": [
      "Aantal even getallen: 2\n",
      "Aantal oneven getallen: 2\n"
     ]
    }
   ],
   "source": [
    "\n",
    "\n",
    "a = int(input(\"Getal 1:\"))\n",
    "b = int(input(\"Getal 2:\"))\n",
    "c = int(input(\"Getal 3:\"))\n",
    "d = int(input(\"Getal 4:\"))\n",
    "\n",
    "lijst = [a,b,c,d]\n",
    "\n",
    "even_getallen = 0\n",
    "oneven_getallen = 0\n",
    "\n",
    "for getal in lijst:\n",
    "    if getal % 2 == 0:\n",
    "        even_getallen += 1\n",
    "    else:\n",
    "        oneven_getallen += 1\n",
    "\n",
    "print(\"Aantal even getallen:\", even_getallen)\n",
    "print(\"Aantal oneven getallen:\", oneven_getallen)"
   ]
  },
  {
   "cell_type": "markdown",
   "metadata": {},
   "source": [
    "Permutaties van een lijst: Genereer alle permutaties van een lijst."
   ]
  },
  {
   "cell_type": "code",
   "execution_count": null,
   "metadata": {},
   "outputs": [],
   "source": []
  },
  {
   "cell_type": "markdown",
   "metadata": {},
   "source": [
    "Fibonacci-reeks: Genereer de eerste n getallen in de Fibonacci-reeks"
   ]
  }
 ],
 "metadata": {
  "kernelspec": {
   "display_name": "Python 3",
   "language": "python",
   "name": "python3"
  },
  "language_info": {
   "codemirror_mode": {
    "name": "ipython",
    "version": 3
   },
   "file_extension": ".py",
   "mimetype": "text/x-python",
   "name": "python",
   "nbconvert_exporter": "python",
   "pygments_lexer": "ipython3",
   "version": "3.12.0"
  }
 },
 "nbformat": 4,
 "nbformat_minor": 2
}
