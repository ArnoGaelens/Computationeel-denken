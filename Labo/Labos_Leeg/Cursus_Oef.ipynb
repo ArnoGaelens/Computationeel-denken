{
 "cells": [
  {
   "cell_type": "markdown",
   "metadata": {},
   "source": [
    "Tuple vergelijkingen"
   ]
  },
  {
   "cell_type": "code",
   "execution_count": 1,
   "metadata": {},
   "outputs": [
    {
     "name": "stdout",
     "output_type": "stream",
     "text": [
      "True\n",
      "True\n",
      "False\n",
      "True\n"
     ]
    }
   ],
   "source": [
    "t1 = ( \"appel\", \"banaan\" )\n",
    "t2 = ( \"appel\", \"banaan\" )\n",
    "t3 = ( \"appel\", \"kers\" )\n",
    "t4 = ( \"appel\", \"banaan\", \"kers\" )\n",
    "print( t1 == t2 )\n",
    "print( t1 < t3 )\n",
    "print( t1 > t4 )\n",
    "print( t3 > t4 )\n"
   ]
  }
 ],
 "metadata": {
  "kernelspec": {
   "display_name": "Python 3",
   "language": "python",
   "name": "python3"
  },
  "language_info": {
   "codemirror_mode": {
    "name": "ipython",
    "version": 3
   },
   "file_extension": ".py",
   "mimetype": "text/x-python",
   "name": "python",
   "nbconvert_exporter": "python",
   "pygments_lexer": "ipython3",
   "version": "3.12.0"
  }
 },
 "nbformat": 4,
 "nbformat_minor": 2
}
