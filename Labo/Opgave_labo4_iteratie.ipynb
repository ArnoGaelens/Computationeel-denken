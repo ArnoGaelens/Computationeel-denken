{
 "cells": [
  {
   "cell_type": "markdown",
   "metadata": {},
   "source": [
    "# Oefening 1a\n",
    "\n",
    "### Delers\n",
    "\n",
    "Lees een geheel getal in en druk zijn delers af.  \n",
    "Gebruik een **while lus**.\n",
    "\n",
    "##### Oplossing"
   ]
  },
  {
   "cell_type": "code",
   "execution_count": 2,
   "metadata": {},
   "outputs": [
    {
     "name": "stdout",
     "output_type": "stream",
     "text": [
      "2\n",
      "4\n",
      "8\n"
     ]
    }
   ],
   "source": [
    "getal = int(input(\"geef het getal in:\"))\n",
    "deler = 1\n",
    "\n",
    "while deler < getal:\n",
    "    deler += 1\n",
    "    if getal % deler == 0:\n",
    "        print(deler)\n",
    "        \n",
    "    \n",
    "\n",
    "    \n"
   ]
  },
  {
   "cell_type": "markdown",
   "metadata": {},
   "source": [
    "# Oefening 1b\n",
    "\n",
    "### Delers\n",
    "\n",
    "Idem als vorige oefening, doch gebruik nu een **for-lus**.\n",
    "\n",
    "##### Oplossing\n"
   ]
  },
  {
   "cell_type": "code",
   "execution_count": 5,
   "metadata": {},
   "outputs": [
    {
     "name": "stdout",
     "output_type": "stream",
     "text": [
      "1\n",
      "2\n",
      "4\n",
      "8\n"
     ]
    }
   ],
   "source": [
    "getal = int(input(\"geef getal in:\"))\n",
    "\n",
    "for teller in range(1,getal+1,1):\n",
    "    if getal % teller == 0:\n",
    "        print(teller)"
   ]
  },
  {
   "cell_type": "markdown",
   "metadata": {},
   "source": [
    "# Oefening 2\n",
    "\n",
    "### Maak een spelletje hoger-lager. \n",
    "\n",
    "Genereer een willekeurig geheel getal (random getal) tussen 1 en 10.  \n",
    "Laat dit getal nog niet onmiddellijk zien op het scherm.  \n",
    "De speler kan nu opeenvolgende keren een gok wagen, net zolang tot hij het getal geraden heeft.  \n",
    "De computer meldt na elke poging “hoger” of “lager”.  \n",
    "Deel het aantal pogingen dat hij nodig heeft om het getal te raden, mee op het scherm.\n",
    "\n",
    "##### Voorbeeld\n",
    ">Raad een getal tussen 1 en 10  \n",
    ">Poging 1: 5  \n",
    ">Hoger!  \n",
    ">Poging 2: 10  \n",
    ">Lager!  \n",
    ">Poging 3: 7  \n",
    ">Hoger!  \n",
    ">Poging 4: 8  \n",
    ">Proficiat! Je raadde het getal in 4 beurten  \n",
    "    \n",
    "##### Oplossing\n"
   ]
  },
  {
   "cell_type": "code",
   "execution_count": 16,
   "metadata": {},
   "outputs": [
    {
     "name": "stdout",
     "output_type": "stream",
     "text": [
      "Lager\n",
      "Goed gedaan!\n"
     ]
    }
   ],
   "source": [
    "import random \n",
    "randomnr = random.randint(0,10)\n",
    "\n",
    "\n",
    "while True:\n",
    "    guess = int(input(\"Geef een getal in\"))\n",
    "    if guess < randomnr:\n",
    "        print(\"Hoger\") \n",
    "    elif guess > randomnr:\n",
    "        print(\"Lager\")\n",
    "    elif guess == randomnr:\n",
    "        print(\"Goed gedaan!\")\n",
    "        break\n"
   ]
  },
  {
   "cell_type": "markdown",
   "metadata": {},
   "source": [
    "# Oefening 3\n",
    "\n",
    "### Som positieve en negatieve getallen\n",
    "\n",
    "Lees een reeks getallen in.  \n",
    "Beëindig de reeks met de waarde 0 (**sentinel**).  \n",
    "\n",
    "Bepaal de som van de positieve en de som van de negatieve getallen.  \n",
    "\n",
    "##### Oplossing"
   ]
  },
  {
   "cell_type": "code",
   "execution_count": 26,
   "metadata": {},
   "outputs": [
    {
     "name": "stdout",
     "output_type": "stream",
     "text": [
      "[5, 7, 4, 8, -5, -6, -3, 6, 4, 7]\n",
      "[5, 7, 4, 8, -5, -6, -3, 6, 4, 7]\n",
      "41\n",
      "-14\n"
     ]
    }
   ],
   "source": [
    "getallenreeks = []\n",
    "\n",
    "while True :\n",
    "    getal = int(input(\"Geef hier de getallen in:\"))\n",
    "    if getal == 0:\n",
    "        break\n",
    "    getallenreeks.append(getal)\n",
    "print(getallenreeks)\n",
    "\n",
    "\n",
    "sompos = 0\n",
    "somneg = 0\n",
    "\n",
    "for i in getallenreeks:\n",
    "    if i < 0:\n",
    "        somneg += i\n",
    "    elif i > 0:\n",
    "        sompos += i\n",
    "\n",
    "print(sompos)\n",
    "print(somneg)\n",
    "\n"
   ]
  },
  {
   "cell_type": "markdown",
   "metadata": {},
   "source": [
    "# Oefening 4a\n",
    "\n",
    "### Grootste, kleinste en frequentie\n",
    "\n",
    "Bepaal uit een reeks gehele getallen het grootste, het kleinste en het aantal keer dat dit maximum en minimum respectievelijk voorkomt.  \n",
    "\n",
    "Beëindig de reeks met de waarde 0 (**sentinel**).\n",
    "\n",
    "##### Oplossing"
   ]
  },
  {
   "cell_type": "code",
   "execution_count": 29,
   "metadata": {},
   "outputs": [
    {
     "ename": "ValueError",
     "evalue": "invalid literal for int() with base 10: ''",
     "output_type": "error",
     "traceback": [
      "\u001b[1;31m---------------------------------------------------------------------------\u001b[0m",
      "\u001b[1;31mValueError\u001b[0m                                Traceback (most recent call last)",
      "\u001b[1;32mc:\\Users\\arnog\\OneDrive\\1_KULeuven\\3_Computationeel denken\\Computationeel-denken\\Labo\\Opgave_labo4_iteratie.ipynb Cell 10\u001b[0m line \u001b[0;36m4\n\u001b[0;32m      <a href='vscode-notebook-cell:/c%3A/Users/arnog/OneDrive/1_KULeuven/3_Computationeel%20denken/Computationeel-denken/Labo/Opgave_labo4_iteratie.ipynb#X12sZmlsZQ%3D%3D?line=0'>1</a>\u001b[0m getallenreeks \u001b[39m=\u001b[39m []\n\u001b[0;32m      <a href='vscode-notebook-cell:/c%3A/Users/arnog/OneDrive/1_KULeuven/3_Computationeel%20denken/Computationeel-denken/Labo/Opgave_labo4_iteratie.ipynb#X12sZmlsZQ%3D%3D?line=2'>3</a>\u001b[0m \u001b[39mwhile\u001b[39;00m \u001b[39mTrue\u001b[39;00m:\n\u001b[1;32m----> <a href='vscode-notebook-cell:/c%3A/Users/arnog/OneDrive/1_KULeuven/3_Computationeel%20denken/Computationeel-denken/Labo/Opgave_labo4_iteratie.ipynb#X12sZmlsZQ%3D%3D?line=3'>4</a>\u001b[0m     getal \u001b[39m=\u001b[39m \u001b[39mint\u001b[39;49m(\u001b[39minput\u001b[39;49m(\u001b[39m\"\u001b[39;49m\u001b[39mGeef hier de getallen in:\u001b[39;49m\u001b[39m\"\u001b[39;49m))\n\u001b[0;32m      <a href='vscode-notebook-cell:/c%3A/Users/arnog/OneDrive/1_KULeuven/3_Computationeel%20denken/Computationeel-denken/Labo/Opgave_labo4_iteratie.ipynb#X12sZmlsZQ%3D%3D?line=4'>5</a>\u001b[0m     \u001b[39mif\u001b[39;00m getal \u001b[39m==\u001b[39m \u001b[39m0\u001b[39m:\n\u001b[0;32m      <a href='vscode-notebook-cell:/c%3A/Users/arnog/OneDrive/1_KULeuven/3_Computationeel%20denken/Computationeel-denken/Labo/Opgave_labo4_iteratie.ipynb#X12sZmlsZQ%3D%3D?line=5'>6</a>\u001b[0m         \u001b[39mbreak\u001b[39;00m\n",
      "\u001b[1;31mValueError\u001b[0m: invalid literal for int() with base 10: ''"
     ]
    }
   ],
   "source": [
    "getallenreeks = []\n",
    "\n",
    "while True:\n",
    "    getal = int(input(\"Geef hier de getallen in:\"))\n",
    "    if getal == 0:\n",
    "        break\n",
    "    getallenreeks.append(getal)\n",
    "print(getallenreeks)\n",
    "\n",
    "print(f\"max is {max(getallenreeks)} en komt {getallenreeks.count(max(getallenreeks))} voor\")\n",
    "print(f\"min is {min(getallenreeks)} en komt {getallenreeks.count(min(getallenreeks))} voor\")\n",
    "\n",
    "\n"
   ]
  },
  {
   "cell_type": "code",
   "execution_count": 16,
   "metadata": {},
   "outputs": [
    {
     "name": "stdout",
     "output_type": "stream",
     "text": [
      "max is 8 en komt 2 keer voor\n",
      "min is 3 en komt 1 keer voor\n"
     ]
    }
   ],
   "source": [
    "getal = int(input(\"Geef een getal: \"))\n",
    "max = getal\n",
    "min = getal\n",
    "aantal_max = 1\n",
    "aantal_min = 1\n",
    "\n",
    "while True:\n",
    "    getal = int(input(\"Geef een getal: \"))\n",
    "    if getal == 0: \n",
    "        break\n",
    "    if getal == max:\n",
    "        aantal_max += 1\n",
    "    else:\n",
    "        if getal > max:\n",
    "            max = getal\n",
    "    if getal == min:\n",
    "        aantal_min += 1\n",
    "    else:\n",
    "        if getal < min:\n",
    "            min = getal\n",
    "        \n",
    "print(f\"max is {max} en komt {aantal_max} keer voor\")\n",
    "print(f\"min is {min} en komt {aantal_min} keer voor\")"
   ]
  },
  {
   "cell_type": "markdown",
   "metadata": {},
   "source": [
    "# Oefening 4b\n",
    "\n",
    "### Grootste, kleinste en frequentie\n",
    "\n",
    "Idem als vorige oefening, doch de waarde 0 is een getal als een ander en kan niet gebruikt worden als sentinel om de invoer te beëindigen.  \n",
    "\n",
    "Beëindig daarom de invoer door niets in te geven, enkel **ENTER**.\n",
    "\n",
    "##### Tip\n",
    "Maak gebruik van een **loop-and-a-half** constructie (*while True ... break*)\n",
    "````python\n",
    "while True:\n",
    "    getal_string = input(\"Getal:\")\n",
    "    if getal_string == \"\":\n",
    "        break\n",
    "    getal = int(getal_string)\n",
    "````\n",
    "##### Oplossing"
   ]
  },
  {
   "cell_type": "code",
   "execution_count": null,
   "metadata": {},
   "outputs": [],
   "source": []
  },
  {
   "cell_type": "markdown",
   "metadata": {},
   "source": [
    "# Oefening 5\n",
    "\n",
    "### Reeks van Fibonacci\n",
    "\n",
    "Genereer n getallen uit de reeks van Fibonacci, waarbij n ingegeven wordt door de gebruiker.  \n",
    "Schrijf deze getallen naar het scherm.  \n",
    "\n",
    "De reeks van Fibonacci is als volgt opgebouwd:\n",
    "\n",
    "- f1 = 1\n",
    "- f2 = 1\n",
    "- f3 = 2\n",
    "- f4 = 3\n",
    "- f5 = 5\n",
    "- fi = fi-1 + fi-2 (voor i>2)\n",
    "\n",
    "Vanaf de derde waarde is elk getal de som van de vorige twee.\n",
    "\n",
    "Druk de getallen af op 1 enkele lijn.\n",
    "##### Tip\n",
    "````python\n",
    "print(waarde, end=' ')\n",
    "````\n",
    "*Maak **geen** gebruik van list of array.*\n",
    "##### Oplossing"
   ]
  },
  {
   "cell_type": "code",
   "execution_count": null,
   "metadata": {},
   "outputs": [],
   "source": []
  },
  {
   "cell_type": "markdown",
   "metadata": {},
   "source": [
    "# Oefening 6\n",
    "\n",
    "### Kerstboompje\n",
    "\n",
    "Teken met sterretjes een kerstboompje op het scherm. Lees de gewenste hoogte van het kerstboompje in.  \n",
    "Maak gebruik van een geneste for-lus. \n",
    "\n",
    "Maak geen gebruik van list of matrix.\n",
    "\n",
    "##### Tip\n",
    "\n",
    "Maak gebruik van\n",
    "````python\n",
    "range(a, b)\n",
    "````\n",
    "Getallen in de range \\[a .. b[ (a inclusief, b **NIET** inbegrepen)\n",
    "\n",
    "##### Voorbeeld\n",
    "\n",
    ">Geef de hoogte in van het kerstboompje: 8  \n",
    "````           \n",
    "           *  \n",
    "          ***\n",
    "         *****\n",
    "        *******\n",
    "       *********\n",
    "      ***********\n",
    "     *************\n",
    "    ***************\n",
    "````\n",
    "##### Tip\n",
    "\n",
    "- Laat i variëren van 1 tot en met hoogte.  \n",
    "    - Op de i-de lijn druk je **hoogte-i spaties** gevolgd door **2*i - 1 sterretjes**.\n",
    "\n",
    "##### Oplossing\n",
    "    "
   ]
  },
  {
   "cell_type": "code",
   "execution_count": null,
   "metadata": {},
   "outputs": [],
   "source": []
  },
  {
   "cell_type": "markdown",
   "metadata": {},
   "source": [
    "# Oefening 7\n",
    "\n",
    "#### <font color = 'green'> *Een uitdaging, enkel voor de student die zich geroepen voelt* </font>  \n",
    "\n",
    "### Piraten en hun kokosnoten\n",
    "\n",
    "Volgens een oude puzzel zijn vijf piraten en hun aap gestrand op een eiland.  \n",
    "\n",
    "Gedurende de dag verzamelen ze kokosnoten, die ze op een grote stapel leggen.  \n",
    "Wanneer de nacht valt gaan ze slapen.  \n",
    "\n",
    "Midden in de nacht wordt de eerste piraat wakker. Hij vertrouwt zijn makkers niet, dus hij verdeelt de stapel kokosnoten in vijf gelijke delen, neemt wat hij aanneemt dat zijn deel is, en verstopt dat.  \n",
    "Hij houdt één kokosnoot over, en die geeft hij aan de aap.  \n",
    "Dan valt hij weer in slaap.  \n",
    "\n",
    "Een uur later wordt de tweede piraat wakker. Hij handelt net als de eerste piraat: hij verdeelt de stapel in vijf gelijke delen, neemt wat hij denkt dat zijn deel is, en verstopt dat. Ook hij houdt een kokosnoot over die hij aan de aap geeft.  \n",
    "Dan valt hij weer in slaap.\n",
    "\n",
    "Hetzelfde gebeurt met de andere drie piraten: één voor één worden ze wakker, verdelen de stapel, geven een kokosnoot aan de aap, verstoppen hun deel, en gaan weer slapen.  \n",
    "\n",
    "In de ochtend worden ze allemaal wakker. Ze verdelen eerlijk wat er van de stapel kokosnoten over is. Dat laat één kokosnoot over, en die gaat naar de aap.  \n",
    "\n",
    "De vraag is: wat is het kleinste aantal kokosnoten dat er op de originele stapel kan hebben gelegen?  \n",
    "\n",
    "Schrijf een Python programma dat de puzzel oplost.\n",
    "\n",
    "*Het is nog beter als je het kunt oplossen voor een willekeurig aantal piraten.*\n",
    "\n",
    "##### Oplossing"
   ]
  },
  {
   "cell_type": "code",
   "execution_count": null,
   "metadata": {},
   "outputs": [],
   "source": []
  },
  {
   "cell_type": "markdown",
   "metadata": {},
   "source": [
    "# Oefening 8\n",
    "\n",
    "#### <font color = 'green'> *Een uitdaging, enkel voor de student die zich geroepen voelt* </font>  \n",
    "\n",
    "### Driehoekkruipers\n",
    "\n",
    "````\n",
    "         C  \n",
    "     \n",
    "     \n",
    "         D\n",
    "     \n",
    "    A         B\n",
    "````\n",
    "\n",
    "Beschouw de driehoek die hier is weergegeven. Deze driehoek bevat een kolonie Driehoekkruipers, en een Verslinder van Driehoekkruipers.  \n",
    "De Verslinder zit in punt D. Alle Driehoekkuipers worden geboren in punt A. Een Driehoekkruiper die bij punt D aankomt, wordt opgegeten.\n",
    "\n",
    "Iedere dag kruipt iedere Driehoekkruiper over een van de lijnen in de driehoek naar een willekeurig bepaald punt, maar niet naar het punt waar hij de dag ervoor was. Deze beweging kost één dag.  \n",
    "Bijvoorbeeld, een Driehoekkruiper die net geboren is in punt A, zal op de eerste dag van zijn leven kruipen naar B, C, of D. Als hij naar B gaat, zal hij de volgende dag naar C of D gaan, maar niet terug naar A. Als hij naar C gaat, zal hij de volgende dag naar B of D gaan, maar niet terug naar A. Als hij naar D gaat, wordt hij opgegeten.  \n",
    "\n",
    "De waarschijnlijkheid dat een Driehoekkruiper op de eerste dag onmiddellijk naar D gaat is 1/3, en dan leeft hij dus maar één dag. In principe kan een Driehoekkruiper iedere willekeurige leeftijd bereiken, hoe hoog ook, door in cirkels te bewegen van A naar B naar C en terug naar A (of tegen de klok in, van A naar C naar B en terug naar A).  \n",
    "Maar omdat hij iedere dag na de eerste per toeval kiest voor een volgend punt, is iedere dag na de eerste de waarschijnlijkheid dat hij wordt opgegeten 1/2.  \n",
    "\n",
    "Schrijf een programma dat een benadering berekent van de gemiddelde leeftijd waarop een Driehoekkruiper overlijdt. Doe dit door de simulatie van 100.000 Driehoekkruipers, waarbij je alle dagen dat ze leven optelt, en het totaal deelt door 100.000.  \n",
    "\n",
    "De uitvoer van je programma moet gegeven zijn als een gebroken getal met twee decimalen.\n",
    "\n",
    "##### Tips\n",
    "\n",
    "- Simuleer het gedrag van één Driehoekkruiper en herhaalt dat 100.000 keer.\n",
    "- Begin niet met 100.000 Driehoekkruipers voor je eerste pogingen. Start met 1000 (of misschien met slechts 1), en probeer het pas met 100.000 als je weet dat je programma min of meer klaar is. Testen gaat veel sneller met minder Driehoekkruipers. 1000 Driehoekkruipers kunnen worden gesimuleerd in minder dan een seconde, dus als je programma meer tijd nodig heeft, heb je waarschijnlijk een eindeloze loop gemaakt.\n",
    "\n",
    "- Het antwoord is ergens tussen de 1 en 5 dagen. Als je iets buiten dat bereik krijgt, is het zeker fout.\n",
    " \n",
    " ##### Oplossing"
   ]
  },
  {
   "cell_type": "code",
   "execution_count": null,
   "metadata": {},
   "outputs": [],
   "source": []
  }
 ],
 "metadata": {
  "kernelspec": {
   "display_name": "Python 3",
   "language": "python",
   "name": "python3"
  },
  "language_info": {
   "codemirror_mode": {
    "name": "ipython",
    "version": 3
   },
   "file_extension": ".py",
   "mimetype": "text/x-python",
   "name": "python",
   "nbconvert_exporter": "python",
   "pygments_lexer": "ipython3",
   "version": "3.12.0"
  }
 },
 "nbformat": 4,
 "nbformat_minor": 4
}
