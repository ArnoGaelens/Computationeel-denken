{
 "cells": [
  {
   "cell_type": "markdown",
   "metadata": {},
   "source": [
    "# Oefening 1\n",
    "### Bereken jouw leeftijd in het jaar 2030\n",
    "Dit programma berekent de leeftijd die je in 2030 zal hebben.\n",
    "\n",
    "##### Voorbeeld\n",
    "\n",
    ">Geef jouw geboortejaar: 1999  \n",
    ">In 2030 ben je 31 jaar.\n",
    "\n",
    "##### Oplossing"
   ]
  },
  {
   "cell_type": "code",
   "execution_count": 7,
   "metadata": {},
   "outputs": [
    {
     "name": "stdout",
     "output_type": "stream",
     "text": [
      "28\n"
     ]
    }
   ],
   "source": [
    "geboortejaar = int(input(\"Geef jouw geboortejaar\"))\n",
    "\n",
    "def leeftijd ():\n",
    "    leeftijd30 = 2030 - geboortejaar\n",
    "    print(leeftijd30)\n",
    "\n",
    "leeftijd ()\n",
    "\n",
    "\n"
   ]
  },
  {
   "cell_type": "markdown",
   "metadata": {},
   "source": [
    "# Oefening 2\n",
    "\n",
    "### Gemiddelde\n",
    "\n",
    "- Lees 3 gehele getallen in en bereken het gemiddelde.  \n",
    "Het resultaat moet een reëel getal zijn.\n",
    "\n",
    "- Laat het resultaat een tweede keer zien, maar nu op 2 cijfers na de komma\n",
    "\n",
    "##### Oplossing\n"
   ]
  },
  {
   "cell_type": "code",
   "execution_count": 10,
   "metadata": {},
   "outputs": [
    {
     "name": "stdout",
     "output_type": "stream",
     "text": [
      "3.0\n",
      "3.00\n"
     ]
    }
   ],
   "source": [
    "getal1 = int(input(\"getal1:\")) \n",
    "getal2 = int(input(\"getal2:\")) \n",
    "getal3 = int(input(\"getal3:\")) \n",
    "\n",
    "def gemiddelde ():\n",
    "    lijstgetallen = [getal1, getal2, getal3]\n",
    "    gemiddelde = sum(lijstgetallen) / len(lijstgetallen)\n",
    "    print(gemiddelde)\n",
    "    print(\"{:.2f}\".format(gemiddelde))\n",
    "\n",
    "gemiddelde ()"
   ]
  },
  {
   "cell_type": "markdown",
   "metadata": {},
   "source": [
    "# Oefening 3\n",
    "\n",
    "### Zet een tijd om naar seconden\n",
    "\n",
    "Lees een natuurlijk getal in (seconden) en zet om in  \n",
    "- dagen,\n",
    "- uren,\n",
    "- minuten en\n",
    "- resterende seconden.\n",
    "\n",
    "##### Voorbeeld \n",
    "\n",
    ">Geef een tijd in seconden:1000000  \n",
    ">\n",
    ">Dagen: 11  \n",
    ">Uren: 13  \n",
    ">Minuten: 46  \n",
    ">Seconden: 40  \n",
    "\n",
    "##### Oplossing\n"
   ]
  },
  {
   "cell_type": "code",
   "execution_count": 11,
   "metadata": {},
   "outputs": [
    {
     "name": "stdout",
     "output_type": "stream",
     "text": [
      "Dagen: 46\n",
      "Uren: 7\n",
      "Minuten: 6\n",
      "Resterende seconden: 40\n"
     ]
    }
   ],
   "source": [
    "# Lees een natuurlijk getal in (seconden)\n",
    "input_seconds = int(input(\"Voer een aantal seconden in: \"))\n",
    "\n",
    "# Bereken dagen, uren, minuten en resterende seconden\n",
    "seconds_per_minute = 60\n",
    "seconds_per_hour = 60 * seconds_per_minute\n",
    "seconds_per_day = 24 * seconds_per_hour\n",
    "\n",
    "days = input_seconds // seconds_per_day\n",
    "input_seconds %= seconds_per_day\n",
    "\n",
    "hours = input_seconds // seconds_per_hour\n",
    "input_seconds %= seconds_per_hour\n",
    "\n",
    "minutes = input_seconds // seconds_per_minute\n",
    "input_seconds %= seconds_per_minute\n",
    "\n",
    "# De overgebleven seconden zijn in input_seconds\n",
    "seconds = input_seconds\n",
    "\n",
    "# Toon het resultaat\n",
    "print(\"Dagen:\", days)\n",
    "print(\"Uren:\", hours)\n",
    "print(\"Minuten:\", minutes)\n",
    "print(\"Resterende seconden:\", seconds)\n",
    "\n",
    "\n",
    "\n",
    "\n",
    "\n",
    "\n",
    "\n"
   ]
  },
  {
   "cell_type": "markdown",
   "metadata": {},
   "source": [
    "# Oefening 4\n",
    "\n",
    "### Grootste van twee getallen\n",
    "\n",
    "Lees 2 gehele getallen in en onderzoek welke van de 2 het grootste is.  \n",
    "Hou er rekening mee dat beide getallen gelijk kunnen zijn.  \n",
    "Laat het resultaat van jouw onderzoek zien op het scherm.\n",
    "\n",
    "*Maak **geen** gebruik van de ingebouwde min of max functie.*\n",
    "\n",
    "##### Oplossing\n"
   ]
  },
  {
   "cell_type": "code",
   "execution_count": 13,
   "metadata": {},
   "outputs": [
    {
     "name": "stdout",
     "output_type": "stream",
     "text": [
      "getal2 is het grootst\n"
     ]
    }
   ],
   "source": [
    "getal1 = int(input(\"getal1:\")) \n",
    "getal2 = int(input(\"getal2:\")) \n",
    "\n",
    "if getal1 == getal2:\n",
    "    print(\"getallen zijn even groot\")\n",
    "elif getal1 < getal2:\n",
    "    print(\"getal2 is het grootst\")\n",
    "else:\n",
    "    print(\"getal1 is het grootst\")\n",
    "\n",
    "\n",
    "\n"
   ]
  },
  {
   "cell_type": "markdown",
   "metadata": {},
   "source": [
    "# Oefening 5\n",
    "\n",
    "### Even of oneven\n",
    "\n",
    "Lees een geheel getal in en onderzoek of het even of oneven is.  \n",
    "Geef het resultaat van jouw onderzoek weer op het scherm.\n",
    "##### Voorbeeld\n",
    "\n",
    ">Geef getal in: 13\n",
    ">\n",
    ">Het ingegeven getal 13 is oneven.\n",
    "\n",
    "##### Oplossing\n"
   ]
  },
  {
   "cell_type": "code",
   "execution_count": 17,
   "metadata": {},
   "outputs": [
    {
     "name": "stdout",
     "output_type": "stream",
     "text": [
      "even\n"
     ]
    }
   ],
   "source": [
    "getal1 = int(input(\"getal1:\")) \n",
    "\n",
    "if getal1 % 2 == 0:\n",
    "    print(\"even\")\n",
    "else:\n",
    "    print(\"oneven\")"
   ]
  },
  {
   "cell_type": "markdown",
   "metadata": {},
   "source": [
    "# Oefening 6\n",
    "\n",
    "### Rechthoekige driehoek?\n",
    "\n",
    "Lees de drie zijden van een driehoek in een willekeurige volgorde in en onderzoek of het een rechthoekige driehoek betreft (stelling van Pythagoras).  \n",
    "Laat het resultaat van jouw onderzoek zien op het scherm.\n",
    "##### Voorbeeld\n",
    ">Geef de drie zijden in van de driehoek.  \n",
    ">x: 3  \n",
    ">y: 5  \n",
    ">z: 4  \n",
    ">Dit zijn de zijden van een rechthoekige driehoek.\n",
    "\n",
    "##### Oplossing\n"
   ]
  },
  {
   "cell_type": "code",
   "execution_count": 18,
   "metadata": {},
   "outputs": [
    {
     "name": "stdout",
     "output_type": "stream",
     "text": [
      "niet rechthoekig\n"
     ]
    }
   ],
   "source": [
    "x = int(input(\"zijde1: \"))\n",
    "y = int(input(\"zijde2: \"))\n",
    "z = int(input(\"zijde3: \"))\n",
    "\n",
    "if  x*x == y*y + z*z or y*y == x*x + z*z or z*z == y*y + x*x:\n",
    "    print(\"rechthoekig\")\n",
    "else:\n",
    "    print(\"niet rechthoekig\")\n",
    "\n",
    "\n",
    "\n",
    "\n",
    "\n",
    "\n",
    "\n",
    "\n"
   ]
  },
  {
   "cell_type": "markdown",
   "metadata": {},
   "source": [
    "# Oefening 7\n",
    "\n",
    "### Overuren\n",
    "\n",
    "Vraag hoeveel uren iemand deze week gewerkt heeft en print vervolgens op het scherm of hij of zij \n",
    "- geen overuren, \n",
    "- overuren of\n",
    "- dubbele overuren  \n",
    "\n",
    "heeft gemaakt.\n",
    "\n",
    "Er zijn 3 mogelijkheden afhankelijk van het aantal gepresteerde uren:\n",
    "- uren <= 38:  geen overuren\n",
    "- uren>38 en uren<=60:  overuren\n",
    "- uren>60: dubbele overuren.\n",
    "\n",
    "##### Oplossing\n"
   ]
  },
  {
   "cell_type": "code",
   "execution_count": 1,
   "metadata": {},
   "outputs": [
    {
     "name": "stdout",
     "output_type": "stream",
     "text": [
      "Overuren\n"
     ]
    }
   ],
   "source": [
    "urengewerkt = int(input(\"Aantal gewerkte uren deze week: \"))\n",
    "\n",
    "if urengewerkt <= 38:\n",
    "    print(\"Geen overuren.\")\n",
    "elif 38 < urengewerkt <=60:\n",
    "    print(\"Overuren\")\n",
    "elif urengewerkt > 60:\n",
    "    print(\"dubbele overuren\")\n",
    "\n",
    "\n",
    "\n",
    "\n",
    "\n"
   ]
  },
  {
   "cell_type": "markdown",
   "metadata": {},
   "source": [
    "# Oefening 8\n",
    "\n",
    "### Geldige datum?\n",
    "\n",
    "Schrijf een programma dat een dag, maand en jaar inleest als gehele getallen en vervolgens nagaat of dit overeenstemt met een geldige datum.\n",
    "\n",
    "##### Voorbeeld\n",
    ">Geef dag in: 29  \n",
    ">maand: 2  \n",
    ">jaar: 2019  \n",
    ">29/2/2019 is GEEN geldige datum!  \n",
    "\n",
    "##### Oplossing\n"
   ]
  },
  {
   "cell_type": "code",
   "execution_count": 14,
   "metadata": {},
   "outputs": [
    {
     "name": "stdout",
     "output_type": "stream",
     "text": [
      "Geldige datum\n",
      "GEEN Geldige datum\n"
     ]
    }
   ],
   "source": [
    "\n",
    "\n",
    "def IsGeldigeDatum(dag, maand, jaar):\n",
    "    daginmaand = [31, 28, 31, 30, 31, 30, 31, 31, 30, 31, 30, 31]\n",
    "\n",
    "    if (jaar % 4 == 0 and jaar % 100 != 0) or (jaar % 400 == 0):\n",
    "        daginmaand[1] = 29\n",
    "\n",
    "    if 0 < dag < daginmaand[maand-1] and 0 < maand < 12 and 0 < jaar < 9999:\n",
    "        return True\n",
    "    else:\n",
    "        return False\n",
    "\n",
    "#express shit benaming om te leren werken met parameters\n",
    "a = int(input(\"dag: \"))\n",
    "b = int(input(\"maand: \"))\n",
    "c = int(input(\"jaar: \"))\n",
    "\n",
    "if IsGeldigeDatum(a,b,c):\n",
    "    print(\"Geldige datum\")\n",
    "else:\n",
    "    print(\"GEEN Geldige datum\")\n",
    "\n",
    "if IsGeldigeDatum(29,2,2019):\n",
    "    print(\"Geldige datum\")\n",
    "else:\n",
    "    print(\"GEEN Geldige datum\")\n",
    "\n"
   ]
  }
 ],
 "metadata": {
  "kernelspec": {
   "display_name": "Python 3",
   "language": "python",
   "name": "python3"
  },
  "language_info": {
   "codemirror_mode": {
    "name": "ipython",
    "version": 3
   },
   "file_extension": ".py",
   "mimetype": "text/x-python",
   "name": "python",
   "nbconvert_exporter": "python",
   "pygments_lexer": "ipython3",
   "version": "3.12.0"
  }
 },
 "nbformat": 4,
 "nbformat_minor": 4
}
