{
 "cells": [
  {
   "cell_type": "markdown",
   "metadata": {},
   "source": [
    "Schrijf een Python-programma dat de gebruiker begroet en vraagt om hun naam in te voeren. Het programma moet vervolgens de naam van de gebruiker gebruiken om een persoonlijke begroeting af te drukken."
   ]
  },
  {
   "cell_type": "code",
   "execution_count": null,
   "metadata": {},
   "outputs": [],
   "source": [
    "naam = str(input(\"Wat is jouw naam?\"))\n",
    "leeftijd = int(input(\"Hoe oud ben je?\"))\n",
    "\n",
    "print(\"Goedemorgen\", naam)\n"
   ]
  },
  {
   "cell_type": "markdown",
   "metadata": {},
   "source": [
    "Schrijf een Python-programma dat de gebruiker vraagt om twee getallen in te voeren en vervolgens de vier basisrekenkundige bewerkingen (optellen, aftrekken, vermenigvuldigen en delen) op deze getallen uitvoert en de resultaten afdrukt."
   ]
  },
  {
   "cell_type": "code",
   "execution_count": 6,
   "metadata": {},
   "outputs": [
    {
     "name": "stdout",
     "output_type": "stream",
     "text": [
      "0.26666666666666666\n"
     ]
    }
   ],
   "source": [
    "a = int(input(\"Getal1:\"))\n",
    "b = int(input(\"Getal2\"))\n",
    "c = int(input(\"Getal3\"))\n",
    "u = str(input(\"som/verschil/product/quotient\"))\n",
    "\n",
    "if u == \"som\":\n",
    "    d = a+b+c\n",
    "elif u == \"verschil\":\n",
    "    d = a-b-c\n",
    "elif u == \"product\":\n",
    "    d = a*b*c\n",
    "elif u == \"quotient\":\n",
    "    d = a/b/c\n",
    "else:\n",
    "    print(\"ERROR\")\n",
    "\n",
    "print(d)"
   ]
  },
  {
   "cell_type": "markdown",
   "metadata": {},
   "source": [
    "Vraag de gebruiker om een zin in te voeren en schrijf een Python-programma dat de zin omkeert en de omgekeerde versie afdrukt. Bijvoorbeeld, als de gebruiker \"Python is geweldig\" invoert, zou het programma \"wonderful is Python\" moeten afdrukken."
   ]
  },
  {
   "cell_type": "code",
   "execution_count": 8,
   "metadata": {},
   "outputs": [
    {
     "name": "stdout",
     "output_type": "stream",
     "text": [
      "draai de woorden uit deze zin om\n"
     ]
    }
   ],
   "source": [
    "zin = str(input(\"voer een zin in:\"))\n",
    "\n",
    "woorden = zin.split()\n",
    "\n",
    "Omgekeerde_zin = ' '.join(woorden[::-1])\n",
    "\n",
    "print(Omgekeerde_zin)\n"
   ]
  },
  {
   "cell_type": "markdown",
   "metadata": {},
   "source": [
    "Schrijf een programma dat de gebruiker vraagt om een getal in te voeren en vervolgens controleert of het getal even of oneven is. Druk het resultaat af."
   ]
  },
  {
   "cell_type": "code",
   "execution_count": 10,
   "metadata": {},
   "outputs": [
    {
     "name": "stdout",
     "output_type": "stream",
     "text": [
      "dit getal is even\n"
     ]
    }
   ],
   "source": [
    "getal = int(input(\"Geef een getal in\"))\n",
    "\n",
    "if getal % 2 == 0:\n",
    "    print(\"dit getal is even\")\n",
    "else:\n",
    "    print(\"dit getal is oneven\")\n"
   ]
  },
  {
   "cell_type": "markdown",
   "metadata": {},
   "source": [
    "Schrijf een eenvoudig raadspel waarin de computer een willekeurig getal genereert tussen 1 en 100, en de speler moet proberen het getal te raden. Geef aanwijzingen of het geraden getal te hoog of te laag is totdat de speler het juiste getal raadt.\n",
    "\n",
    "Deze oefeningen variëren in moeilijkheidsgraad en betrekken vaardigheden zoals gebruikersinvoer, beslissingsstructuren, loops en basisbewerkingen. Je kunt ze gebruiken om je Python-vaardigheden te ontwikkelen terwijl je plezier hebt en leert."
   ]
  },
  {
   "cell_type": "code",
   "execution_count": null,
   "metadata": {},
   "outputs": [],
   "source": []
  }
 ],
 "metadata": {
  "kernelspec": {
   "display_name": "Python 3",
   "language": "python",
   "name": "python3"
  },
  "language_info": {
   "codemirror_mode": {
    "name": "ipython",
    "version": 3
   },
   "file_extension": ".py",
   "mimetype": "text/x-python",
   "name": "python",
   "nbconvert_exporter": "python",
   "pygments_lexer": "ipython3",
   "version": "3.12.0"
  }
 },
 "nbformat": 4,
 "nbformat_minor": 2
}
