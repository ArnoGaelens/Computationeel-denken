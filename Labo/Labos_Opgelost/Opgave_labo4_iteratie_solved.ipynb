{
 "cells": [
  {
   "cell_type": "markdown",
   "metadata": {},
   "source": [
    "# Oefening 1a\n",
    "\n",
    "### Delers\n",
    "\n",
    "Lees een geheel getal in en druk zijn delers af.  \n",
    "Gebruik een **while lus**.\n",
    "\n",
    "##### Oplossing"
   ]
  },
  {
   "cell_type": "code",
   "execution_count": 10,
   "metadata": {},
   "outputs": [
    {
     "name": "stdout",
     "output_type": "stream",
     "text": [
      "1\n",
      "3\n",
      "9\n"
     ]
    }
   ],
   "source": [
    "getal = int(input(\"geef een getal in:\"))\n",
    "teller = 1\n",
    "\n",
    "while teller <= getal:\n",
    "    if getal % teller == 0:\n",
    "        print(teller)\n",
    "    teller += 1\n"
   ]
  },
  {
   "cell_type": "markdown",
   "metadata": {},
   "source": [
    "# Oefening 1b\n",
    "\n",
    "### Delers\n",
    "\n",
    "Idem als vorige oefening, doch gebruik nu een **for-lus**.\n",
    "\n",
    "##### Oplossing\n"
   ]
  },
  {
   "cell_type": "code",
   "execution_count": 7,
   "metadata": {},
   "outputs": [
    {
     "name": "stdout",
     "output_type": "stream",
     "text": [
      "[1, 2, 3, 4, 5, 6, 7, 8, 9]\n",
      "1\n",
      "3\n",
      "9\n"
     ]
    }
   ],
   "source": [
    "getal = int(input(\"geef een getal in:\"))\n",
    "tellerl = [i for i in range(1, getal+1)]\n",
    "\n",
    "\n",
    "print(tellerl)    \n",
    "\n",
    "for teller in tellerl:\n",
    "    if getal % teller == 0:\n",
    "        print(teller)\n",
    "\n"
   ]
  },
  {
   "cell_type": "markdown",
   "metadata": {},
   "source": [
    "# Oefening 2\n",
    "\n",
    "### Maak een spelletje hoger-lager. \n",
    "\n",
    "Genereer een willekeurig geheel getal (random getal) tussen 1 en 10.  \n",
    "Laat dit getal nog niet onmiddellijk zien op het scherm.  \n",
    "De speler kan nu opeenvolgende keren een gok wagen, net zolang tot hij het getal geraden heeft.  \n",
    "De computer meldt na elke poging “hoger” of “lager”.  \n",
    "Deel het aantal pogingen dat hij nodig heeft om het getal te raden, mee op het scherm.\n",
    "\n",
    "##### Voorbeeld\n",
    ">Raad een getal tussen 1 en 10  \n",
    ">Poging 1: 5  \n",
    ">Hoger!  \n",
    ">Poging 2: 10  \n",
    ">Lager!  \n",
    ">Poging 3: 7  \n",
    ">Hoger!  \n",
    ">Poging 4: 8  \n",
    ">Proficiat! Je raadde het getal in 4 beurten  \n",
    "    \n",
    "##### Oplossing\n"
   ]
  },
  {
   "cell_type": "code",
   "execution_count": 3,
   "metadata": {},
   "outputs": [
    {
     "name": "stdout",
     "output_type": "stream",
     "text": [
      "Lager\n",
      "Correct\n"
     ]
    }
   ],
   "source": [
    "import random\n",
    "\n",
    "randomnr = random.randint(1,10)\n",
    "\n",
    "while True:\n",
    "    gok = int(input(\"gok hier: \"))\n",
    "\n",
    "    if gok < randomnr:\n",
    "        print(\"Hoger\")\n",
    "    elif gok > randomnr:\n",
    "        print(\"Lager\")\n",
    "    elif gok == randomnr:\n",
    "        print(\"Correct\")\n",
    "        break\n",
    "\n",
    " "
   ]
  },
  {
   "cell_type": "markdown",
   "metadata": {},
   "source": [
    "# Oefening 3\n",
    "\n",
    "### Som positieve en negatieve getallen\n",
    "\n",
    "Lees een reeks getallen in.  \n",
    "Beëindig de reeks met de waarde 0 (**sentinel**).  \n",
    "\n",
    "Bepaal de som van de positieve en de som van de negatieve getallen.  \n",
    "\n",
    "##### Oplossing"
   ]
  },
  {
   "cell_type": "code",
   "execution_count": 18,
   "metadata": {},
   "outputs": [
    {
     "name": "stdout",
     "output_type": "stream",
     "text": [
      "[4, 5, 3, 5, -4, 3]\n",
      "20\n",
      "-4\n"
     ]
    }
   ],
   "source": [
    "Listnr = []\n",
    "\n",
    "while True:\n",
    "    n = int(input())\n",
    "    if n != 0:\n",
    "        Listnr.append (n)\n",
    "    elif n == 0:\n",
    "        print(Listnr)     \n",
    "        break\n",
    "        \n",
    "possom = 0\n",
    "negsom = 0\n",
    "for num in Listnr:\n",
    "\n",
    "    if num > 0:\n",
    "        possom += num \n",
    "    elif num < 0:\n",
    "        negsom += num\n",
    "\n",
    "print(possom)\n",
    "print(negsom)\n"
   ]
  },
  {
   "cell_type": "markdown",
   "metadata": {},
   "source": [
    "# Oefening 4a\n",
    "\n",
    "### Grootste, kleinste en frequentie\n",
    "\n",
    "Bepaal uit een reeks gehele getallen het grootste, het kleinste en het aantal keer dat dit maximum en minimum respectievelijk voorkomt.  \n",
    "\n",
    "Beëindig de reeks met de waarde 0 (**sentinel**).\n",
    "\n",
    "##### Oplossing"
   ]
  },
  {
   "cell_type": "code",
   "execution_count": 30,
   "metadata": {},
   "outputs": [
    {
     "name": "stdout",
     "output_type": "stream",
     "text": [
      "max is 8\n",
      "aantal keer 8 is 3\n",
      "min is 0\n",
      "aantal keer 0 is 1\n"
     ]
    }
   ],
   "source": [
    "lijst = []\n",
    "\n",
    "while True:\n",
    "    n = int(input())\n",
    "        \n",
    "    if n == 0:\n",
    "        break\n",
    "    else:\n",
    "        lijst.append(n)\n",
    "\n",
    "\n",
    "maxnr = 0\n",
    "aantalmax = 0\n",
    "minnr = 0\n",
    "aantalmin =0\n",
    "\n",
    "\n",
    "print(f\"max is {max(lijst)}\")\n",
    "print(f\"aantal keer {max(lijst)} is {lijst.count(max(lijst))}\")\n",
    "print(f\"min is {min(lijst)}\")\n",
    "print(f\"aantal keer {min(lijst)} is {lijst.count(min(lijst))}\")"
   ]
  },
  {
   "cell_type": "markdown",
   "metadata": {},
   "source": [
    "# Oefening 4b\n",
    "\n",
    "### Grootste, kleinste en frequentie\n",
    "\n",
    "Idem als vorige oefening, doch de waarde 0 is een getal als een ander en kan niet gebruikt worden als sentinel om de invoer te beëindigen.  \n",
    "\n",
    "Beëindig daarom de invoer door niets in te geven, enkel **ENTER**.\n",
    "\n",
    "##### Tip\n",
    "Maak gebruik van een **loop-and-a-half** constructie (*while True ... break*)\n",
    "````python\n",
    "while True:\n",
    "    getal_string = input(\"Getal:\")\n",
    "    if getal_string == \"\":\n",
    "        break\n",
    "    getal = int(getal_string)\n",
    "````\n",
    "##### Oplossing"
   ]
  },
  {
   "cell_type": "code",
   "execution_count": 38,
   "metadata": {},
   "outputs": [
    {
     "name": "stdout",
     "output_type": "stream",
     "text": [
      "max is 6\n",
      "aantal keer 6 is 2\n",
      "min is 4\n",
      "aantal keer 4 is 1\n"
     ]
    }
   ],
   "source": [
    "lijst = []\n",
    "\n",
    "while True:\n",
    "    n = input()\n",
    "\n",
    "    if n == \"\":\n",
    "        break\n",
    "    lijst.append(n)\n",
    "\n",
    "maxnr = 0\n",
    "aantalmax = 0\n",
    "minnr = 0\n",
    "aantalmin =0\n",
    "\n",
    "\n",
    "print(f\"max is {max(lijst)}\")\n",
    "print(f\"aantal keer {max(lijst)} is {lijst.count(max(lijst))}\")\n",
    "print(f\"min is {min(lijst)}\")\n",
    "print(f\"aantal keer {min(lijst)} is {lijst.count(min(lijst))}\")"
   ]
  },
  {
   "cell_type": "markdown",
   "metadata": {},
   "source": [
    "# Oefening 5\n",
    "\n",
    "### Reeks van Fibonacci\n",
    "\n",
    "Genereer n getallen uit de reeks van Fibonacci, waarbij n ingegeven wordt door de gebruiker.  \n",
    "Schrijf deze getallen naar het scherm.  \n",
    "\n",
    "De reeks van Fibonacci is als volgt opgebouwd:\n",
    "\n",
    "- f1 = 1\n",
    "- f2 = 1\n",
    "- f3 = 2\n",
    "- f4 = 3\n",
    "- f5 = 5\n",
    "- fi = fi-1 + fi-2 (voor i>2)\n",
    "\n",
    "Vanaf de derde waarde is elk getal de som van de vorige twee.\n",
    "\n",
    "Druk de getallen af op 1 enkele lijn.\n",
    "##### Tip\n",
    "````python\n",
    "print(waarde, end=' ')\n",
    "````\n",
    "*Maak **geen** gebruik van list of array.*\n",
    "##### Oplossing"
   ]
  },
  {
   "cell_type": "code",
   "execution_count": 5,
   "metadata": {},
   "outputs": [
    {
     "name": "stdout",
     "output_type": "stream",
     "text": [
      "1 1 2 3 5 8 13 21 "
     ]
    }
   ],
   "source": [
    "a, b = 1, 1\n",
    "for _ in range(n):\n",
    "    print(a, end=' ')\n",
    "    a , b = b , a+b\n",
    "    \n",
    "n = int(input(\"Geef aantal gewenste fibonacci in: \"))\n"
   ]
  },
  {
   "cell_type": "markdown",
   "metadata": {},
   "source": [
    "# Oefening 6\n",
    "\n",
    "### Kerstboompje\n",
    "\n",
    "Teken met sterretjes een kerstboompje op het scherm. Lees de gewenste hoogte van het kerstboompje in.  \n",
    "Maak gebruik van een geneste for-lus. \n",
    "\n",
    "Maak geen gebruik van list of matrix.\n",
    "\n",
    "##### Tip\n",
    "\n",
    "Maak gebruik van\n",
    "````python\n",
    "range(a, b)\n",
    "````\n",
    "Getallen in de range \\[a .. b[ (a inclusief, b **NIET** inbegrepen)\n",
    "\n",
    "##### Voorbeeld\n",
    "\n",
    ">Geef de hoogte in van het kerstboompje: 8  \n",
    "````           \n",
    "           *  \n",
    "          ***\n",
    "         *****\n",
    "        *******\n",
    "       *********\n",
    "      ***********\n",
    "     *************\n",
    "    ***************\n",
    "````\n",
    "##### Tip\n",
    "\n",
    "- Laat i variëren van 1 tot en met hoogte.  \n",
    "    - Op de i-de lijn druk je **hoogte-i spaties** gevolgd door **2*i - 1 sterretjes**.\n",
    "\n",
    "##### Oplossing\n",
    "    "
   ]
  },
  {
   "cell_type": "code",
   "execution_count": 26,
   "metadata": {},
   "outputs": [
    {
     "name": "stdout",
     "output_type": "stream",
     "text": [
      "     *\n",
      "    ***\n",
      "   *****\n",
      "  *******\n",
      " *********\n"
     ]
    }
   ],
   "source": [
    "hoogte = int(input(\"Geef de hoogte van het boompje in: \"))\n",
    "\n",
    "for i in range(1, hoogte +1):\n",
    "    spaties = hoogte - i\n",
    "    sterretjes = (2 * i) -1\n",
    "    print((\" \" * spaties), (\"*\" * sterretjes))\n",
    "\n",
    "\n",
    "\n",
    "\n",
    "\n",
    "\n",
    "\n"
   ]
  },
  {
   "cell_type": "markdown",
   "metadata": {},
   "source": [
    "# Oefening 7\n",
    "\n",
    "#### <font color = 'green'> *Een uitdaging, enkel voor de student die zich geroepen voelt* </font>  \n",
    "\n",
    "### Piraten en hun kokosnoten\n",
    "\n",
    "Volgens een oude puzzel zijn vijf piraten en hun aap gestrand op een eiland.  \n",
    "\n",
    "Gedurende de dag verzamelen ze kokosnoten, die ze op een grote stapel leggen.  \n",
    "Wanneer de nacht valt gaan ze slapen.  \n",
    "\n",
    "Midden in de nacht wordt de eerste piraat wakker. Hij vertrouwt zijn makkers niet, dus hij verdeelt de stapel kokosnoten in vijf gelijke delen, neemt wat hij aanneemt dat zijn deel is, en verstopt dat.  \n",
    "Hij houdt één kokosnoot over, en die geeft hij aan de aap.  \n",
    "Dan valt hij weer in slaap.  \n",
    "\n",
    "Een uur later wordt de tweede piraat wakker. Hij handelt net als de eerste piraat: hij verdeelt de stapel in vijf gelijke delen, neemt wat hij denkt dat zijn deel is, en verstopt dat. Ook hij houdt een kokosnoot over die hij aan de aap geeft.  \n",
    "Dan valt hij weer in slaap.\n",
    "\n",
    "Hetzelfde gebeurt met de andere drie piraten: één voor één worden ze wakker, verdelen de stapel, geven een kokosnoot aan de aap, verstoppen hun deel, en gaan weer slapen.  \n",
    "\n",
    "In de ochtend worden ze allemaal wakker. Ze verdelen eerlijk wat er van de stapel kokosnoten over is. Dat laat één kokosnoot over, en die gaat naar de aap.  \n",
    "\n",
    "De vraag is: wat is het kleinste aantal kokosnoten dat er op de originele stapel kan hebben gelegen?  \n",
    "\n",
    "Schrijf een Python programma dat de puzzel oplost.\n",
    "\n",
    "*Het is nog beter als je het kunt oplossen voor een willekeurig aantal piraten.*\n",
    "\n",
    "##### Oplossing"
   ]
  },
  {
   "cell_type": "code",
   "execution_count": null,
   "metadata": {},
   "outputs": [],
   "source": []
  },
  {
   "cell_type": "markdown",
   "metadata": {},
   "source": [
    "# Oefening 8\n",
    "\n",
    "#### <font color = 'green'> *Een uitdaging, enkel voor de student die zich geroepen voelt* </font>  \n",
    "\n",
    "### Driehoekkruipers\n",
    "\n",
    "````\n",
    "         C  \n",
    "     \n",
    "     \n",
    "         D\n",
    "     \n",
    "    A         B\n",
    "````\n",
    "\n",
    "Beschouw de driehoek die hier is weergegeven. Deze driehoek bevat een kolonie Driehoekkruipers, en een Verslinder van Driehoekkruipers.  \n",
    "De Verslinder zit in punt D. Alle Driehoekkuipers worden geboren in punt A. Een Driehoekkruiper die bij punt D aankomt, wordt opgegeten.\n",
    "\n",
    "Iedere dag kruipt iedere Driehoekkruiper over een van de lijnen in de driehoek naar een willekeurig bepaald punt, maar niet naar het punt waar hij de dag ervoor was. Deze beweging kost één dag.  \n",
    "Bijvoorbeeld, een Driehoekkruiper die net geboren is in punt A, zal op de eerste dag van zijn leven kruipen naar B, C, of D. Als hij naar B gaat, zal hij de volgende dag naar C of D gaan, maar niet terug naar A. Als hij naar C gaat, zal hij de volgende dag naar B of D gaan, maar niet terug naar A. Als hij naar D gaat, wordt hij opgegeten.  \n",
    "\n",
    "De waarschijnlijkheid dat een Driehoekkruiper op de eerste dag onmiddellijk naar D gaat is 1/3, en dan leeft hij dus maar één dag. In principe kan een Driehoekkruiper iedere willekeurige leeftijd bereiken, hoe hoog ook, door in cirkels te bewegen van A naar B naar C en terug naar A (of tegen de klok in, van A naar C naar B en terug naar A).  \n",
    "Maar omdat hij iedere dag na de eerste per toeval kiest voor een volgend punt, is iedere dag na de eerste de waarschijnlijkheid dat hij wordt opgegeten 1/2.  \n",
    "\n",
    "Schrijf een programma dat een benadering berekent van de gemiddelde leeftijd waarop een Driehoekkruiper overlijdt. Doe dit door de simulatie van 100.000 Driehoekkruipers, waarbij je alle dagen dat ze leven optelt, en het totaal deelt door 100.000.  \n",
    "\n",
    "De uitvoer van je programma moet gegeven zijn als een gebroken getal met twee decimalen.\n",
    "\n",
    "##### Tips\n",
    "\n",
    "- Simuleer het gedrag van één Driehoekkruiper en herhaalt dat 100.000 keer.\n",
    "- Begin niet met 100.000 Driehoekkruipers voor je eerste pogingen. Start met 1000 (of misschien met slechts 1), en probeer het pas met 100.000 als je weet dat je programma min of meer klaar is. Testen gaat veel sneller met minder Driehoekkruipers. 1000 Driehoekkruipers kunnen worden gesimuleerd in minder dan een seconde, dus als je programma meer tijd nodig heeft, heb je waarschijnlijk een eindeloze loop gemaakt.\n",
    "\n",
    "- Het antwoord is ergens tussen de 1 en 5 dagen. Als je iets buiten dat bereik krijgt, is het zeker fout.\n",
    " \n",
    " ##### Oplossing"
   ]
  },
  {
   "cell_type": "code",
   "execution_count": null,
   "metadata": {},
   "outputs": [],
   "source": []
  }
 ],
 "metadata": {
  "kernelspec": {
   "display_name": "Python 3 (Spyder)",
   "language": "python3",
   "name": "python3"
  },
  "language_info": {
   "codemirror_mode": {
    "name": "ipython",
    "version": 3
   },
   "file_extension": ".py",
   "mimetype": "text/x-python",
   "name": "python",
   "nbconvert_exporter": "python",
   "pygments_lexer": "ipython3",
   "version": "3.11.5"
  }
 },
 "nbformat": 4,
 "nbformat_minor": 4
}
