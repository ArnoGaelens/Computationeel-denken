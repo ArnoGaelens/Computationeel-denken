{
 "cells": [
  {
   "cell_type": "markdown",
   "metadata": {},
   "source": [
    "# Oefening 1\n",
    "\n",
    "### Aantal cijfers\n",
    "\n",
    "Schrijf een functie **aantal_cijfers** die het aantal cijfers van een geheel getal telt.  \n",
    "\n",
    "Het gehele getal wordt bij aanroep van de functie meegegeven als argument. \n",
    "De returnwaarde van de functie is het aantal cijfers.\n",
    "\n",
    "Maak een programma dat het getal inleest, de functie inzet, en het resultaat toont.\n",
    "\n",
    "\n",
    "\n",
    "### Tip\n",
    "\n",
    "Het getal herhaaldelijk delen door 10 (gehele euclidische deling, niet de reële deling).  \n",
    "M.a.w. // en niet /\n",
    "\n",
    "##### Oplossing\n"
   ]
  },
  {
   "cell_type": "code",
   "execution_count": null,
   "metadata": {},
   "outputs": [],
   "source": []
  },
  {
   "cell_type": "markdown",
   "metadata": {},
   "source": [
    "# Oefening 2\n",
    "\n",
    "### Tafels van vermenigvuldiging\n",
    "\n",
    "Schrijf een functie die een tafel van vermenigvuldiging afdrukt voor de cijfers 1 tot en met een zeker getal *num*.\n",
    "Dit getal *num* is het argument van de functie.  \n",
    "\n",
    "Kies als naam voor deze functie **toon_tafels_van( ... )**.\n",
    "\n",
    "Als uw programma loopt, vraagt het aan de gebruiker om een waarde van *num* in te geven.\n",
    "Vervolgens wordt de functie aangeroepen:\n",
    "\n",
    "Het programma ziet er als volgt uit:\n",
    "\n",
    "> Definieer de functie\n",
    ">\n",
    ">Maak gebruik van de functie\n",
    ">\n",
    "````python\n",
    "num = int(input(\"Tafels van vermenigvuldiging tot: \"))\n",
    "toon_tafels_van(num)\n",
    "````\n",
    "\n",
    "\n",
    "Een tafel van vermenigvuldiging voor 1 tot en met 3 (*num* = 3) ziet er als volgt uit:\n",
    "\n",
    "````\n",
    ". | 1 2 3\n",
    "__________\n",
    "1 | 1 2 3\n",
    "2 | 2 4 6\n",
    "3 | 3 6 9\n",
    "````\n",
    "\n",
    "De cellen van de matrix bevatten het label van de kolom vermenigvuldigd met het label van de rij.\n",
    "\n",
    "##### Oplossing\n"
   ]
  },
  {
   "cell_type": "code",
   "execution_count": null,
   "metadata": {},
   "outputs": [],
   "source": []
  },
  {
   "cell_type": "markdown",
   "metadata": {},
   "source": [
    "# Oefining 3a\n",
    "\n",
    "### Priemgetal\n",
    "\n",
    "Een priemgetal is een positief geheel getal dat deelbaar is door precies twee verschillende getallen, namelijk 1 en het priemgetal zelf.  \n",
    "Het laagste en enige even priemgetal is 2.  \n",
    "De eerste 10 priemgetallen zijn 2, 3, 5, 7, 11, 13, 17, 19, 23, en 29. \n",
    "\n",
    "Schrijf een programma dat de gebruiker om een getal vraagt en dan afdrukt of dit getal een priemgetal is.\n",
    "\n",
    "Tip: \n",
    "\n",
    "> Test in een loop alle mogelijke delers van het getal. \n",
    "> In deze loop kan je concluderen dat een getal niet priem is zodra je een deler (anders dan 1 of het getal zelf) hebt gevonden. \n",
    "> Je kunt echter alleen na afloop van de loop constateren dat het getal priem is, want dan heb je pas alle mogelijke delers getest.\n",
    "\n",
    "\n",
    "##### Oplossing\n"
   ]
  },
  {
   "cell_type": "code",
   "execution_count": null,
   "metadata": {},
   "outputs": [],
   "source": []
  },
  {
   "cell_type": "markdown",
   "metadata": {},
   "source": [
    "# Oefening 3b\n",
    "\n",
    "### Priemgetal-functie\n",
    "\n",
    "Giet uw vorige oplossing in een functie, zodat volgend programma werkt:\n",
    "\n",
    "````python\n",
    "waarde = int(input(\"Geef een getal: \"))\n",
    "if is_priem(waarde):\n",
    "    print(\"priemgetal\")\n",
    "else:\n",
    "    print(\"GEEN priemgetal\")\n",
    "````    \n",
    "Definieer de functie **is_priem** die een getal als argument aanvaardt, en een boolean returnt.\n",
    "\n",
    "##### Oplossing\n"
   ]
  },
  {
   "cell_type": "code",
   "execution_count": null,
   "metadata": {},
   "outputs": [],
   "source": []
  },
  {
   "cell_type": "markdown",
   "metadata": {},
   "source": [
    "# Oefening 3c\n",
    "\n",
    "### Alle priemgetallen\n",
    "\n",
    "Lees een grenswaarde in en druk alle priemgetallen tot die grenswaarde af.\n",
    "Maak gebruik van de hiervoor gedefiniëerde functie **ispriem(...)**.\n",
    "\n",
    "##### Oplossing\n"
   ]
  },
  {
   "cell_type": "code",
   "execution_count": null,
   "metadata": {},
   "outputs": [],
   "source": []
  },
  {
   "cell_type": "markdown",
   "metadata": {},
   "source": [
    "# Oefening 4\n",
    "\n",
    "### Benadering van het getal π\n",
    "\n",
    "De Grerory-Leibnitz reeks benadert de waarde van π door de berekening van 4 ∗ (1/1 − 1/3 + 1/5 − 1/7 + 1/9...).  \n",
    "Schrijf een functie **get_pi(...)** die π benadert via deze reeks.  \n",
    "De functie krijgt één parameter als argument, namelijk een integer die aangeeft hoeveel van de termen tussen de haakjes in de reeks berekend moeten worden.\n",
    "\n",
    "##### Oplossing\n"
   ]
  },
  {
   "cell_type": "code",
   "execution_count": null,
   "metadata": {},
   "outputs": [],
   "source": []
  },
  {
   "cell_type": "markdown",
   "metadata": {},
   "source": [
    "# Oefening 5\n",
    "\n",
    "### π door middel van toevalsgetallen\n",
    "\n",
    "Schrijf een functie **get_pi(...)** die π benadert door middel van toevalsgetallen, als volgt:  \n",
    "\n",
    "Neem een vierkant van 1 bij 1 in het eerste kwadrant van een cartesisch assenstelsel. \n",
    "\n",
    "Als je een dart (vogelpiek) in dat vierkant gooit op een willekeurige plek, is de waarschijnlijkheid dat de afstand van de dart tot de linkeronderhoek van het vierkant kleiner dan 1 is gelijk aan π/4.  \n",
    "\n",
    "Namelijk:  \n",
    "\n",
    "> De oppervlakte van een cirkel met straal 1 is π.  \n",
    "> De oppervlakte van een kwart cirkel is π/4.  \n",
    "> De oppervlakte van het vierkant is 1.  \n",
    ">\n",
    "> Als je N darts in het vierkant werpt, en M ervan landen in de kwart cirkel, dan benadert 4M/N de waarde π (als N voldoende groot is).  \n",
    "\n",
    "Jouw functie heeft een argument dat aangeeft hoeveel darts gesimuleerd moeten worden.  \n",
    "Ze returnt een benadering van π door het werpen van zoveel darts te simuleren.  \n",
    "\n",
    "De afstand van een punt (x, y) tot de linkeronderhoek kun je berekenen als de vierkantswortel van x-kwadraat + y-kwadraat.  \n",
    "\n",
    "Gebruik de random() functie uit de random module.\n",
    "\n",
    "##### Oplossing\n"
   ]
  },
  {
   "cell_type": "code",
   "execution_count": null,
   "metadata": {},
   "outputs": [],
   "source": []
  },
  {
   "cell_type": "markdown",
   "metadata": {},
   "source": [
    "# Oefening 6\n",
    "\n",
    "### Perfecte getallen\n",
    "\n",
    "Schrijf een functie **is_perfect(...)** om na te gaan of een getal een perfect getal is.\n",
    "\n",
    "Een getal is perfect als de som van de delers (met uitzondering van het getal zelf) gelijk is aan het getal.  \n",
    "Zo bijvoorbeeld is 6 een perfect getal, namelijk:  \n",
    "\n",
    "> 1 + 2 + 3 = 6\n",
    "\n",
    "Zoek vervolgens alle perfecte getallen beneden een bepaalde , in te lezen, grenswaarde.\n",
    "\n",
    "##### Oplossing\n"
   ]
  },
  {
   "cell_type": "code",
   "execution_count": null,
   "metadata": {},
   "outputs": [],
   "source": []
  },
  {
   "cell_type": "markdown",
   "metadata": {},
   "source": [
    "# Oefening 7\n",
    "\n",
    "### Gemeenschappelijke letters\n",
    "\n",
    "Schrijf een functie die twee strings krijgt als parameters.  \n",
    "\n",
    "De functie retourneert een nieuwe string bestaande uit de letters die beide strings gemeen hebben.  \n",
    "\n",
    "Je mag hoofletters beschouwen als verschillend van kleine letters, maar iedere letter die je rapporteert, mag slechts één keer gerapporteerd worden (bijvoorbeeld, de strings “een” en “peer” hebben slechts één letter gemeen, namelijk de letter “e”).  \n",
    "\n",
    "Tip:  \n",
    "> Sla de letters die de woorden gemeen hebben op in een derde string, en als je een letter vindt die beide woorden gemeen hebben, test je of de letter al in de derde string staat alvorens je hem rapporteert.  \n",
    "\n",
    "Toon de nieuwe string in het hoofdprogramma (niet in de functie).  \n",
    "\n",
    "Toon eveneens het aantal lettes die gemeen zijn in het hoofdprogramma.  \n",
    "\n",
    "##### Oplossing\n"
   ]
  },
  {
   "cell_type": "code",
   "execution_count": null,
   "metadata": {},
   "outputs": [],
   "source": []
  },
  {
   "cell_type": "markdown",
   "metadata": {},
   "source": [
    "# Oefening 8\n",
    "\n",
    "### Schone string\n",
    "\n",
    "Schrijf een functie **get_schone_string(...)** die een string als argument krijgt, en die dan een nieuwe string retourneert die hetzelfde is als het argument, maar waarbij ieder teken dat geen letter is, wordt vervangen door een spatie.  \n",
    "\n",
    "Bijvoorbeeld:\n",
    "\n",
    "> de uitdrukking ````\"ph@t l00t\"```` wordt gewijzigd in ````\"ph t l  t\"````).  \n",
    "\n",
    "Tip:\n",
    "\n",
    ">Om zo’n functie te schrijven begin je met een nieuwe, lege string, en doorloop je de tekens van het argument één voor één.  \n",
    ">\n",
    ">Als je een acceptabel teken tegenkomt, voeg je het toe aan de nieuwe string. Anders voeg je een spatie toe aan de nieuwe string.  \n",
    ">\n",
    ">Je kunt testen of een teken acceptabel is met eenvoudige vergelijkingen, bijvoorbeeld, alle kleine letters kun je herkennen omdat ze de test ch >= 'a' and ch <= 'z' True maken.  \n",
    "\n",
    "Merk op:\n",
    "\n",
    "- strings zijn **onveranderbaar**, je kan m.a.w. niet zomaar een karakter vervangen door een spatie.\n",
    "- je kan 2 strings aan elkaar \"plakken\" door middel van de + operator\n",
    "- een letter uit een string beet pakken kan d.m.v. de [ ]-operator\n",
    "\n",
    "##### Oplossing\n"
   ]
  },
  {
   "cell_type": "code",
   "execution_count": null,
   "metadata": {},
   "outputs": [],
   "source": []
  },
  {
   "cell_type": "markdown",
   "metadata": {},
   "source": [
    "# Oefening 9\n",
    "\n",
    "### Optellen complexe getallen\n",
    "\n",
    "Een complex getal is een getal van de vorm a + bi, waarbij a en b constanten zijn, en i een speciale waarde, die gedefinieerd is als de wortel uit -1. Natuurlijk kan je niet echt de wortel uit -1 berekenen, dat zou een runtime error geven; in complexe berekeningen laat je altijd de i staan. Bijvoorbeeld, het complexe getal 3 + 2i kan niet verder gesimplificeerd worden.  \n",
    "\n",
    "Het optellen van complexe getallen a + bi en c + di is gedefinieerd als:  \n",
    "\n",
    "> (a + c) + (b + d)i.  \n",
    "\n",
    "Representeer een complex getal als een **tuple** met twee numerieke waarden, en creëer een functie voor de optelling van twee complexe getallen.  \n",
    "\n",
    "Jouw functie **get_optelling_complexe_getallen(...)** aanvaardt 2 tuples als argument en returnt een tuple, namelijk de som van de 2 complexe getallen.\n",
    "\n",
    "Maak een programma dat gebruik maakt van jouw functie.  \n",
    "Lees het reële deel en het imaginaire deel van elk van de 2 complexe getallen in, roep jouw functie aan, en toon tenslotte in jouw programma (niet in de functie) het resultaal.\n",
    "\n",
    "##### Oplossing\n"
   ]
  },
  {
   "cell_type": "code",
   "execution_count": null,
   "metadata": {},
   "outputs": [],
   "source": []
  },
  {
   "cell_type": "markdown",
   "metadata": {},
   "source": [
    "# Oefening 10\n",
    "\n",
    "### Vermenigvuldigen complexe getallen\n",
    "\n",
    "**Volledig naar analogie van vorige oefening.**  \n",
    "\n",
    "De vermenigvuldiging van twee complexe getallen a + bi en c + di is gedefinieerd als:\n",
    "\n",
    "> (a*c - b*d) + (a*d + b*c)i.  \n",
    "\n",
    "Schrijf een functie **get_vermenigvuldiging_complexe_getallen(...)** die de vermenigvuldiging van twee complexe getallen implementeert.\n",
    "\n",
    "##### Oplossing\n"
   ]
  },
  {
   "cell_type": "code",
   "execution_count": null,
   "metadata": {},
   "outputs": [],
   "source": []
  }
 ],
 "metadata": {
  "kernelspec": {
   "display_name": "Python 3",
   "language": "python",
   "name": "python3"
  },
  "language_info": {
   "codemirror_mode": {
    "name": "ipython",
    "version": 3
   },
   "file_extension": ".py",
   "mimetype": "text/x-python",
   "name": "python",
   "nbconvert_exporter": "python",
   "pygments_lexer": "ipython3",
   "version": "3.7.5"
  }
 },
 "nbformat": 4,
 "nbformat_minor": 4
}
