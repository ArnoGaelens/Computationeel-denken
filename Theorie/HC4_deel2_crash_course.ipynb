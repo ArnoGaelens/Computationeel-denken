{
 "cells": [
  {
   "cell_type": "code",
   "execution_count": null,
   "metadata": {},
   "outputs": [],
   "source": [
    "for x in (10,100):\n",
    "    print(x)"
   ]
  },
  {
   "cell_type": "code",
   "execution_count": 1,
   "metadata": {
    "scrolled": true
   },
   "outputs": [
    {
     "name": "stdout",
     "output_type": "stream",
     "text": [
      "geef een getal: 5\n",
      "25\n",
      "1\n",
      "3\n",
      "5\n",
      "7\n",
      "9\n"
     ]
    }
   ],
   "source": [
    "getal = input(\"geef een getal: \")\n",
    "getal = int(getal)\n",
    "print(getal * getal)\n",
    "for x in range (1, 11, 2 ):\n",
    "    print(x)"
   ]
  },
  {
   "cell_type": "code",
   "execution_count": 174,
   "metadata": {},
   "outputs": [
    {
     "name": "stdout",
     "output_type": "stream",
     "text": [
      "6\n",
      "0.9281322140938131 0.6646555784079131 0.9831011924329077\n",
      "0.8444218515250481 0.7579544029403025 0.420571580830845\n",
      "0.13436424411240122 0.8474337369372327 0.763774618976614\n",
      "8\n",
      "0\n"
     ]
    }
   ],
   "source": [
    "from random import random, seed, randint\n",
    "\n",
    "\n",
    "print(randint(0,10))\n",
    "\n",
    "seed()\n",
    "print (random(), random(), random())\n",
    "\n",
    "seed(0)\n",
    "print (random(), random(), random())\n",
    "\n",
    "seed(1)\n",
    "print (random(), random(), random())\n",
    "\n",
    "seed(35)\n",
    "print(randint(0,10))\n",
    "\n",
    "seed()\n",
    "print(randint(0,10))\n"
   ]
  },
  {
   "cell_type": "markdown",
   "metadata": {},
   "source": [
    "Logische operatoren "
   ]
  },
  {
   "cell_type": "code",
   "execution_count": 179,
   "metadata": {},
   "outputs": [
    {
     "name": "stdout",
     "output_type": "stream",
     "text": [
      "True\n",
      "False\n",
      "False\n",
      "False\n"
     ]
    }
   ],
   "source": [
    "t = True\n",
    "f = False\n",
    "\n",
    "print(t and t)  # Output: True omdat beide voorwaarden waar zijn (True and True = True)\n",
    "print(t and f)  # Output: False omdat één van de voorwaarden onwaar is (True and False = False)\n",
    "print(f and f)  # Output: False omdat beide voorwaarden onwaar zijn (False and False = False)\n",
    "print(f and t)  # Output: False omdat één van de voorwaarden onwaar is (False and True = False)\n"
   ]
  },
  {
   "cell_type": "code",
   "execution_count": 180,
   "metadata": {},
   "outputs": [
    {
     "name": "stdout",
     "output_type": "stream",
     "text": [
      "Ezel\n",
      "Paard\n",
      "Paard\n",
      "Ezel\n"
     ]
    }
   ],
   "source": [
    "t = \"Ezel\"\n",
    "f = \"Paard\"\n",
    "\n",
    "print(t and t)  # Output: \"Paard\" omdat bij de 'and'-operator de laatste waard die geëvalueerd wordt geretourneerd wordt als beide waar zijn\n",
    "print(t and f)  # Output: \"Paard\" omdat bij de 'and'-operator de laatste waard die geëvalueerd wordt geretourneerd wordt als één van beide onwaar is\n",
    "print(f and f)  # Output: \"Paard\" omdat bij de 'and'-operator de laatste waard die geëvalueerd wordt geretourneerd wordt als beide waar zijn\n",
    "print(f and t)  # Output: \"Ezel\" omdat bij de 'and'-operator de laatste waard die geëvalueerd wordt geretourneerd wordt als beide waar zijn\n"
   ]
  },
  {
   "cell_type": "code",
   "execution_count": null,
   "metadata": {},
   "outputs": [],
   "source": [
    "for x in (\"10\", \"100\", \"1000\", \"10000\"):\n",
    "    print(x)\n",
    "\n",
    "t1 = (\"appel\", \"mango\")\n",
    "print(t1)    \n",
    "\n",
    "t3, t4 = \"appel\", \"banaan\"\n",
    "print(type(t3))\n",
    "print(t4)\n",
    "\n",
    "fruitlist = ['appel', \"banaan\", \"kers\", \"doerian\", \"mango\"]\n",
    "print(fruitlist)\n",
    "fruitlist[1:2] = [\"framboos\", \"aardbei\"]\n",
    "print(fruitlist)"
   ]
  },
  {
   "cell_type": "code",
   "execution_count": null,
   "metadata": {},
   "outputs": [],
   "source": [
    "fruit = \"banaan\"\n",
    "for letter in fruit:\n",
    "    print(letter)\n",
    "    if letter == \"n\":\n",
    "        fruit = \"mango\"\n",
    "print(\"klaar\")"
   ]
  },
  {
   "cell_type": "code",
   "execution_count": null,
   "metadata": {
    "scrolled": true
   },
   "outputs": [],
   "source": [
    "# voorbeeld rond iteratie\n",
    "totaal = 0\n",
    "teller = 0\n",
    "while teller < 5:\n",
    "        nummer = int(input(\"Geef een nummer:\")) \n",
    "        totaal += nummer\n",
    "        teller += 1\n",
    "print(\"Totaal is\", totaal)"
   ]
  },
  {
   "cell_type": "code",
   "execution_count": null,
   "metadata": {},
   "outputs": [],
   "source": [
    "for x in range(10):\n",
    "    print(x)\n",
    "\n",
    "for x in range (1, 11, 2):\n",
    "    print(x)\n",
    "    \n",
    "for x in (10, 100, 1000, 1000):\n",
    "    print(x)"
   ]
  },
  {
   "cell_type": "code",
   "execution_count": null,
   "metadata": {},
   "outputs": [],
   "source": [
    "# voorbeeld rond iteratie\n",
    "num = 1\n",
    "while num <= 5:\n",
    "        print(num)\n",
    "        num += 1\n",
    "print(\"Klaar\")"
   ]
  },
  {
   "cell_type": "code",
   "execution_count": null,
   "metadata": {},
   "outputs": [],
   "source": [
    "# voorbeeld rond iteratie\n",
    "nummer = int(input(\"Geef een nummer:\"))\n",
    "totaal = 0\n",
    "while nummer !=0:\n",
    "    totaal += nummer\n",
    "    nummer = int(input(\"Geef een nummer:\"))\n",
    "\n",
    "print(\"Totaal is\", totaal)"
   ]
  },
  {
   "cell_type": "code",
   "execution_count": null,
   "metadata": {},
   "outputs": [],
   "source": [
    "# voorbeeld rond iteratie\n",
    "nummer = 1\n",
    "totaal = 0\n",
    "while (nummer * nummer) % 1000 !=0:\n",
    "        totaal += nummer\n",
    "\n",
    "print(\"Totaal is\", totaal)"
   ]
  },
  {
   "cell_type": "code",
   "execution_count": 1,
   "metadata": {},
   "outputs": [
    {
     "name": "stdout",
     "output_type": "stream",
     "text": [
      "('appel', 'banaan')\n",
      "('appel', 3, 1.4)\n",
      "('appel', 3, 1.4, ('banaan', 5))\n",
      "2\n",
      "3\n",
      "4\n",
      "<class 'tuple'>\n",
      "<class 'tuple'>\n"
     ]
    }
   ],
   "source": [
    "# voorbeeld rond tuples\n",
    "t1 = (\"appel\", \"banaan\")\n",
    "t2 = (\"appel\", 3, 1.4)\n",
    "t3 = (\"appel\", 3, 1.4, (\"banaan\", 5))\n",
    "print(t1)\n",
    "print(t2)\n",
    "print(t3)\n",
    "print(len(t1))\n",
    "print(len(t2))\n",
    "print(len(t3))\n",
    "\n",
    "t1 = (\"appel\",\"mango\")\n",
    "print(type(t1)) \n",
    "t2 = \"banaan\", \"kers\"\n",
    "print(type(t2))\n"
   ]
  },
  {
   "cell_type": "code",
   "execution_count": 2,
   "metadata": {},
   "outputs": [
    {
     "name": "stdout",
     "output_type": "stream",
     "text": [
      "['appel', 'A', 'B', 'C', 'banaan', 'kers', 'doerian', 'mango']\n"
     ]
    }
   ],
   "source": [
    "# voorbeeld rond lists\n",
    "fruitlist = [\"appel\", \"banaan\", \"kers\", \"doerian\", \"mango\"]\n",
    "fruitlist[1:1] = [\"A\", \"B\", \"C\"]\n",
    "print(fruitlist)\n"
   ]
  },
  {
   "cell_type": "code",
   "execution_count": null,
   "metadata": {},
   "outputs": [],
   "source": [
    "# voorbeeld rond lists\n",
    "fruitlist = [\"appel\", \"banaan\", \"kers\", \"doerian\", \"mango\"]\n",
    "print(fruitlist)\n",
    "fruitlist[2]=\"aarbei\"\n",
    "print(fruitlist)\n"
   ]
  }
 ],
 "metadata": {
  "kernelspec": {
   "display_name": "Python 3 (ipykernel)",
   "language": "python",
   "name": "python3"
  },
  "language_info": {
   "codemirror_mode": {
    "name": "ipython",
    "version": 3
   },
   "file_extension": ".py",
   "mimetype": "text/x-python",
   "name": "python",
   "nbconvert_exporter": "python",
   "pygments_lexer": "ipython3",
   "version": "3.11.0"
  }
 },
 "nbformat": 4,
 "nbformat_minor": 4
}
