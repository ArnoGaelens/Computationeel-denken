{
 "cells": [
  {
   "cell_type": "markdown",
   "metadata": {},
   "source": [
    "## Requirements: \n",
    "* Python 3.X\n",
    "* Pillow, for installation and compatible versions please refer to: https://pillow.readthedocs.io/en/stable/installation.html"
   ]
  },
  {
   "cell_type": "code",
   "execution_count": 2,
   "metadata": {},
   "outputs": [
    {
     "name": "stdout",
     "output_type": "stream",
     "text": [
      "optie 0: kopieer beeld\n"
     ]
    }
   ],
   "source": [
    "# importeer libraries\n",
    "from PIL import Image\n",
    "import math \n",
    "import numpy as np\n",
    "\n",
    "print(\"optie 0: kopieer beeld\")\n",
    "\n",
    "# converteer een ingelezen afbeelding naar drie matrices\n",
    "input_image = Image.open(\"./beeld/landschap1.jpg\")\n",
    "r_image_in, g_image_in, b_image_in = input_image.split()\n",
    "r_in = np.uint32(np.array(r_image_in))\n",
    "g_in = np.uint32(np.array(g_image_in))\n",
    "b_in = np.uint32(np.array(b_image_in))\n",
    "\n",
    "# hier komen de matrixbewerkingen\n",
    "r_out = np.zeros((r_in.shape[0], r_in.shape[1]))\n",
    "g_out = np.zeros((g_in.shape[0], g_in.shape[1]))\n",
    "b_out = np.zeros((b_in.shape[0], g_in.shape[1]))\n",
    "\n",
    "for i in range(r_in.shape[0]):\n",
    "    for j in range(r_in.shape[1]):\n",
    "        r_out[i][j] = r_in[i][j]\n",
    "        g_out[i][j] = g_in[i][j]\n",
    "        b_out[i][j] = b_in[i][j]\n",
    "\n",
    "# converteer drie matrices terug naar een afbeelding\n",
    "r_image_out = Image.fromarray(np.uint8(r_out))\n",
    "g_image_out = Image.fromarray(np.uint8(g_out))\n",
    "b_image_out = Image.fromarray(np.uint8(b_out))\n",
    "output_im = Image.merge(\"RGB\", (r_image_out, g_image_out, b_image_out))\n",
    "output_im.show()"
   ]
  },
  {
   "cell_type": "code",
   "execution_count": 3,
   "metadata": {},
   "outputs": [
    {
     "name": "stdout",
     "output_type": "stream",
     "text": [
      "optie 1: filter kleuren weg\n"
     ]
    }
   ],
   "source": [
    "# importeer libraries\n",
    "from PIL import Image\n",
    "import math \n",
    "import numpy as np\n",
    "\n",
    "print(\"optie 1: filter kleuren weg\")\n",
    "\n",
    "# converteer een ingelezen afbeelding naar drie matrices\n",
    "input_image = Image.open(\"./beeld/landschap1.jpg\")\n",
    "r_image_in, g_image_in, b_image_in = input_image.split()\n",
    "r_in = np.uint32(np.array(r_image_in))\n",
    "g_in = np.uint32(np.array(g_image_in))\n",
    "b_in = np.uint32(np.array(b_image_in))\n",
    "\n",
    "# hier komen de matrixbewerkingen\n",
    "r_out = np.zeros((r_in.shape[0], r_in.shape[1]))\n",
    "g_out = np.zeros((g_in.shape[0], g_in.shape[1]))\n",
    "b_out = np.zeros((b_in.shape[0], g_in.shape[1]))\n",
    "\n",
    "for i in range(r_in.shape[0]):\n",
    "    for j in range(r_in.shape[1]):\n",
    "        r_out[i][j] = r_in[i][j]\n",
    "        g_out[i][j] = 0\n",
    "        b_out[i][j] = 0\n",
    "\n",
    "# converteer drie matrices terug naar een afbeelding\n",
    "r_image_out = Image.fromarray(np.uint8(r_out))\n",
    "g_image_out = Image.fromarray(np.uint8(g_out))\n",
    "b_image_out = Image.fromarray(np.uint8(b_out))\n",
    "output_im = Image.merge(\"RGB\", (r_image_out, g_image_out, b_image_out))\n",
    "output_im.show()"
   ]
  },
  {
   "cell_type": "code",
   "execution_count": 4,
   "metadata": {},
   "outputs": [
    {
     "name": "stdout",
     "output_type": "stream",
     "text": [
      "optie 2: neem negatief\n"
     ]
    }
   ],
   "source": [
    "# importeer libraries\n",
    "from PIL import Image\n",
    "import math \n",
    "import numpy as np\n",
    "\n",
    "print(\"optie 2: neem negatief\")\n",
    "\n",
    "# converteer een ingelezen afbeelding naar drie matrices\n",
    "input_image = Image.open(\"./beeld/landschap1.jpg\")\n",
    "r_image_in, g_image_in, b_image_in = input_image.split()\n",
    "r_in = np.uint32(np.array(r_image_in))\n",
    "g_in = np.uint32(np.array(g_image_in))\n",
    "b_in = np.uint32(np.array(b_image_in))\n",
    "\n",
    "# hier komen de matrixbewerkingen\n",
    "r_out = np.zeros((r_in.shape[0], r_in.shape[1]))\n",
    "g_out = np.zeros((g_in.shape[0], g_in.shape[1]))\n",
    "b_out = np.zeros((b_in.shape[0], b_in.shape[1]))\n",
    "\n",
    "for i in range(r_out.shape[0]):\n",
    "    for j in range(r_out.shape[1]):\n",
    "        r_out[i][j] = 255 - r_in[i][j]\n",
    "        g_out[i][j] = 255 - g_in[i][j]\n",
    "        b_out[i][j] = 255 - b_in[i][j]\n",
    "\n",
    "# converteer drie matrices terug naar een afbeelding\n",
    "r_image_out = Image.fromarray(np.uint8(r_out))\n",
    "g_image_out = Image.fromarray(np.uint8(g_out))\n",
    "b_image_out = Image.fromarray(np.uint8(b_out))\n",
    "output_im = Image.merge(\"RGB\", (r_image_out, g_image_out, b_image_out))\n",
    "output_im.show()"
   ]
  },
  {
   "cell_type": "code",
   "execution_count": 3,
   "metadata": {},
   "outputs": [
    {
     "name": "stdout",
     "output_type": "stream",
     "text": [
      "optie 3: zwart wit maken\n"
     ]
    }
   ],
   "source": [
    "# importeer libraries\n",
    "from PIL import Image\n",
    "import math \n",
    "import numpy as np\n",
    "\n",
    "print(\"optie 3: zwart wit maken\")\n",
    "\n",
    "# converteer een ingelezen afbeelding naar drie matrices\n",
    "input_image = Image.open(\"./beeld/landschap1.jpg\")\n",
    "r_image_in, g_image_in, b_image_in = input_image.split()\n",
    "r_in = np.uint32(np.array(r_image_in))\n",
    "g_in = np.uint32(np.array(g_image_in))\n",
    "b_in = np.uint32(np.array(b_image_in))\n",
    "\n",
    "# hier komen de matrixbewerkingen\n",
    "r_out = np.zeros((r_in.shape[0], r_in.shape[1]))\n",
    "g_out = np.zeros((g_in.shape[0], g_in.shape[1]))\n",
    "b_out = np.zeros((b_in.shape[0], b_in.shape[1]))\n",
    "\n",
    "for i in range(r_in.shape[0]):\n",
    "    for j in range(r_in.shape[1]):\n",
    "            gemiddelde = (r_in[i][j] + g_in[i][j] + b_in[i][j]) / 3\n",
    "            if gemiddelde < 128:\n",
    "                r_out[i][j] = 0\n",
    "                g_out[i][j] = 0\n",
    "                b_out[i][j] = 0\n",
    "            else:\n",
    "                r_out[i][j] = 255\n",
    "                g_out[i][j] = 255\n",
    "                b_out[i][j] = 255\n",
    "                \n",
    "\n",
    "# converteer drie matrices terug naar een afbeelding\n",
    "r_image_out = Image.fromarray(np.uint8(r_out))\n",
    "g_image_out = Image.fromarray(np.uint8(g_out))\n",
    "b_image_out = Image.fromarray(np.uint8(b_out))\n",
    "output_im = Image.merge(\"RGB\", (r_image_out, g_image_out, b_image_out))\n",
    "output_im.show()"
   ]
  },
  {
   "cell_type": "code",
   "execution_count": 4,
   "metadata": {},
   "outputs": [
    {
     "name": "stdout",
     "output_type": "stream",
     "text": [
      "optie 4: enkel grijswaarden\n"
     ]
    }
   ],
   "source": [
    "# importeer libraries\n",
    "from PIL import Image\n",
    "import math \n",
    "import numpy as np\n",
    "\n",
    "print(\"optie 4: enkel grijswaarden\")\n",
    "\n",
    "# converteer een ingelezen afbeelding naar drie matrices\n",
    "input_image = Image.open(\"./beeld/landschap1.jpg\")\n",
    "r_image_in, g_image_in, b_image_in = input_image.split()\n",
    "r_in = np.uint32(np.array(r_image_in))\n",
    "g_in = np.uint32(np.array(g_image_in))\n",
    "b_in = np.uint32(np.array(b_image_in))\n",
    "\n",
    "# hier komen de matrixbewerkingen\n",
    "r_out = np.zeros((r_in.shape[0], r_in.shape[1]))\n",
    "g_out = np.zeros((g_in.shape[0], g_in.shape[1]))\n",
    "b_out = np.zeros((b_in.shape[0], b_in.shape[1]))\n",
    "\n",
    "for i in range(r_out.shape[0]):\n",
    "    for j in range(r_out.shape[1]):\n",
    "            gemiddelde = (r_in[i][j] + g_in[i][j] + b_in[i][j]) / 3\n",
    "            r_out[i][j] = gemiddelde\n",
    "            g_out[i][j] = gemiddelde\n",
    "            b_out[i][j] = gemiddelde\n",
    "            \n",
    "# converteer drie matrices terug naar een afbeelding\n",
    "r_image_out = Image.fromarray(np.uint8(r_out))\n",
    "g_image_out = Image.fromarray(np.uint8(g_out))\n",
    "b_image_out = Image.fromarray(np.uint8(b_out))\n",
    "output_im = Image.merge(\"RGB\", (r_image_out, g_image_out, b_image_out))\n",
    "output_im.show()"
   ]
  },
  {
   "cell_type": "code",
   "execution_count": 6,
   "metadata": {},
   "outputs": [
    {
     "name": "stdout",
     "output_type": "stream",
     "text": [
      "optie 5: verduisteren\n"
     ]
    }
   ],
   "source": [
    "# importeer libraries\n",
    "from PIL import Image\n",
    "import math \n",
    "import numpy as np\n",
    "\n",
    "print(\"optie 5: verduisteren\")\n",
    "\n",
    "# converteer een ingelezen afbeelding naar drie matrices\n",
    "input_image = Image.open(\"./beeld/landschap1.jpg\")\n",
    "r_image_in, g_image_in, b_image_in = input_image.split()\n",
    "r_in = np.uint32(np.array(r_image_in))\n",
    "g_in = np.uint32(np.array(g_image_in))\n",
    "b_in = np.uint32(np.array(b_image_in))\n",
    "\n",
    "# hier komen de matrixbewerkingen\n",
    "r_out = np.zeros((r_in.shape[0], r_in.shape[1]))\n",
    "g_out = np.zeros((g_in.shape[0], g_in.shape[1]))\n",
    "b_out = np.zeros((b_in.shape[0], b_in.shape[1]))\n",
    "\n",
    "factor = 0.5\n",
    "\n",
    "for i in range(r_out.shape[0]):\n",
    "    for j in range(r_out.shape[1]):\n",
    "        r_out[i][j] = r_in[i][j] * factor\n",
    "        g_out[i][j] = g_in[i][j] * factor\n",
    "        b_out[i][j] = b_in[i][j] * factor\n",
    "\n",
    "# converteer drie matrices terug naar een afbeelding\n",
    "r_image_out = Image.fromarray(np.uint8(r_out))\n",
    "g_image_out = Image.fromarray(np.uint8(g_out))\n",
    "b_image_out = Image.fromarray(np.uint8(b_out))\n",
    "output_im = Image.merge(\"RGB\", (r_image_out, g_image_out, b_image_out))\n",
    "output_im.show()"
   ]
  },
  {
   "cell_type": "code",
   "execution_count": 7,
   "metadata": {},
   "outputs": [],
   "source": [
    "# importeer libraries\n",
    "from PIL import Image\n",
    "import math \n",
    "import numpy as np\n",
    "\n",
    "# converteer een ingelezen afbeelding naar drie matrices\n",
    "input_image = Image.open(\"./beeld/landschap1.jpg\")\n",
    "r_image_in, g_image_in, b_image_in = input_image.split()\n",
    "r_in = np.uint32(np.array(r_image_in))\n",
    "g_in = np.uint32(np.array(g_image_in))\n",
    "b_in = np.uint32(np.array(b_image_in))\n",
    "\n",
    "# hier komen de matrixbewerkingen\n",
    "r_out = np.zeros((r_in.shape[1], r_in.shape[0]))\n",
    "g_out = np.zeros((g_in.shape[1], g_in.shape[0]))\n",
    "b_out = np.zeros((b_in.shape[1], b_in.shape[0]))\n",
    "\n",
    "for i in range(r_out.shape[0]):\n",
    "    for j in range(r_out.shape[1]):\n",
    "        r_out[i][j] = r_in[r_in.shape[0]-j-1][i] \n",
    "        g_out[i][j] = g_in[r_in.shape[0]-j-1][i] \n",
    "        b_out[i][j] = b_in[r_in.shape[0]-j-1][i] \n",
    "\n",
    "# converteer drie matrices terug naar een afbeelding\n",
    "r_image_out = Image.fromarray(np.uint8(r_out))\n",
    "g_image_out = Image.fromarray(np.uint8(g_out))\n",
    "b_image_out = Image.fromarray(np.uint8(b_out))\n",
    "output_im = Image.merge(\"RGB\", (r_image_out, g_image_out, b_image_out))\n",
    "output_im.show()"
   ]
  },
  {
   "cell_type": "code",
   "execution_count": 5,
   "metadata": {},
   "outputs": [
    {
     "name": "stdout",
     "output_type": "stream",
     "text": [
      "optie 6: horizontaal spiegelen\n"
     ]
    }
   ],
   "source": [
    "# importeer libraries\n",
    "from PIL import Image\n",
    "import math \n",
    "import numpy as np\n",
    "\n",
    "print(\"optie 6: horizontaal spiegelen\")\n",
    "\n",
    "# converteer een ingelezen afbeelding naar drie matrices\n",
    "input_image = Image.open(\"./beeld/landschap1.jpg\")\n",
    "r_image_in, g_image_in, b_image_in = input_image.split()\n",
    "r_in = np.uint32(np.array(r_image_in))\n",
    "g_in = np.uint32(np.array(g_image_in))\n",
    "b_in = np.uint32(np.array(b_image_in))\n",
    "\n",
    "# hier komen de matrixbewerkingen\n",
    "r_out = np.zeros((r_in.shape[0], r_in.shape[1]))\n",
    "g_out = np.zeros((g_in.shape[0], g_in.shape[1]))\n",
    "b_out = np.zeros((b_in.shape[0], b_in.shape[1]))\n",
    "\n",
    "for i in range(r_out.shape[0]):\n",
    "    for j in range(r_out.shape[1]):\n",
    "        r_out[i][j] = r_in[r_in.shape[0]-i-1][j] \n",
    "        g_out[i][j] = g_in[r_in.shape[0]-i-1][j] \n",
    "        b_out[i][j] = b_in[r_in.shape[0]-i-1][j] \n",
    "\n",
    "# converteer drie matrices terug naar een afbeelding\n",
    "r_image_out = Image.fromarray(np.uint8(r_out))\n",
    "g_image_out = Image.fromarray(np.uint8(g_out))\n",
    "b_image_out = Image.fromarray(np.uint8(b_out))\n",
    "output_im = Image.merge(\"RGB\", (r_image_out, g_image_out, b_image_out))\n",
    "output_im.show()"
   ]
  },
  {
   "cell_type": "code",
   "execution_count": 5,
   "metadata": {},
   "outputs": [
    {
     "name": "stdout",
     "output_type": "stream",
     "text": [
      "optie 11: edge detection\n"
     ]
    }
   ],
   "source": [
    "# importeer libraries\n",
    "from PIL import Image\n",
    "import math \n",
    "import numpy as np\n",
    "\n",
    "print(\"optie 11: edge detection\")\n",
    "\n",
    "# converteer een ingelezen afbeelding naar drie matrices\n",
    "input_image = Image.open(\"./beeld/landschap1.jpg\")\n",
    "r_image_in, g_image_in, b_image_in = input_image.split()\n",
    "r_in = np.uint32(np.array(r_image_in))\n",
    "g_in = np.uint32(np.array(g_image_in))\n",
    "b_in = np.uint32(np.array(b_image_in))\n",
    "\n",
    "# hier komen de matrixbewerkingen\n",
    "r_out = np.zeros((r_in.shape[0], r_in.shape[1]))\n",
    "g_out = np.zeros((g_in.shape[0], g_in.shape[1]))\n",
    "b_out = np.zeros((b_in.shape[0], b_in.shape[1]))\n",
    "\n",
    "for i in range(r_out.shape[0]):\n",
    "    for j in range(r_out.shape[1]):\n",
    "        r_out[i][j] = r_in[r_in.shape[0]-i-1][j] \n",
    "        g_out[i][j] = g_in[r_in.shape[0]-i-1][j] \n",
    "        b_out[i][j] = b_in[r_in.shape[0]-i-1][j] \n",
    "\n",
    "# converteer drie matrices terug naar een afbeelding\n",
    "r_image_out = Image.fromarray(np.uint8(r_out))\n",
    "g_image_out = Image.fromarray(np.uint8(g_out))\n",
    "b_image_out = Image.fromarray(np.uint8(b_out))\n",
    "output_im = Image.merge(\"RGB\", (r_image_out, g_image_out, b_image_out))\n",
    "output_im.show()"
   ]
  },
  {
   "cell_type": "code",
   "execution_count": null,
   "metadata": {},
   "outputs": [],
   "source": []
  }
 ],
 "metadata": {
  "kernelspec": {
   "display_name": "Python 3 (ipykernel)",
   "language": "python",
   "name": "python3"
  },
  "language_info": {
   "codemirror_mode": {
    "name": "ipython",
    "version": 3
   },
   "file_extension": ".py",
   "mimetype": "text/x-python",
   "name": "python",
   "nbconvert_exporter": "python",
   "pygments_lexer": "ipython3",
   "version": "3.12.0"
  }
 },
 "nbformat": 4,
 "nbformat_minor": 2
}
