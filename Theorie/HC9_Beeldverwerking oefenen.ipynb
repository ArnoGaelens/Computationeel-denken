{
 "cells": [
  {
   "cell_type": "markdown",
   "metadata": {},
   "source": [
    "# 1) Twee kleuren wegfilteren\n",
    "\n",
    "## i) Afbeelding -> Matrices\n",
    "Wordt gegeven op examen\n",
    "\n",
    "## ii) Matrixbewerkingen uitvoeren\n",
    "### 1) Nieuwe matrices initialiseren: \n",
    "3 nieuwe matrices met waarde 0\n",
    "\n",
    "### 2) Via geneste for-loop alle pixels in oude matrix itereren \n",
    "Elke pixel in de nieuwe matrix aanpassen naar de blauw waarde van de pixel op dezelfde positie in de originele matrix.  \n",
    "Rood en Groen op nul zetten.\n",
    "\n",
    "## iii) Matrices -> Afbeelding\n",
    "Wordt gegeven op examen"
   ]
  },
  {
   "cell_type": "code",
   "execution_count": 12,
   "metadata": {},
   "outputs": [
    {
     "name": "stdout",
     "output_type": "stream",
     "text": [
      "optie 1: filter kleuren weg\n"
     ]
    }
   ],
   "source": [
    "# importeer libraries\n",
    "import math \n",
    "import numpy as np\n",
    "from PIL import Image\n",
    "\n",
    "\n",
    "print(\"optie 1: filter kleuren weg\")\n",
    "\n",
    "# converteer een ingelezen afbeelding naar drie matrices\n",
    "input_image = Image.open(\"./beeld/landschap5.jpg\")\n",
    "r_image_in, g_image_in, b_image_in = input_image.split()\n",
    "r_in = np.uint32(np.array(r_image_in))\n",
    "g_in = np.uint32(np.array(g_image_in))\n",
    "b_in = np.uint32(np.array(b_image_in))\n",
    "\n",
    "#-----------------------------------------------------------------------------------------\n",
    "# hier komen de matrixbewerkingen\n",
    "r_out = np.zeros((r_in.shape[0], r_in.shape[1]))\n",
    "g_out = np.zeros((g_in.shape[0], g_in.shape[1]))\n",
    "b_out = np.zeros((b_in.shape[0], b_in.shape[1]))\n",
    "\n",
    "for i in range(r_in.shape[0]):\n",
    "    for j in range(r_in.shape[1]):\n",
    "        r_out[i][j] = 0\n",
    "        g_out[i][j] = g_in[i][j]\n",
    "        b_out[i][j] = b_in[i][j]\n",
    "        \n",
    "#-----------------------------------------------------------------------------------------\n",
    "\n",
    "# converteer drie matrices terug naar een afbeelding\n",
    "r_image_out = Image.fromarray(np.uint8(r_out))\n",
    "g_image_out = Image.fromarray(np.uint8(g_out))\n",
    "b_image_out = Image.fromarray(np.uint8(b_out))\n",
    "output_im = Image.merge(\"RGB\", (r_image_out, g_image_out, b_image_out))\n",
    "output_im.show()"
   ]
  },
  {
   "cell_type": "markdown",
   "metadata": {},
   "source": [
    "# 2) Negatief van een beeld nemen"
   ]
  },
  {
   "cell_type": "code",
   "execution_count": 8,
   "metadata": {},
   "outputs": [
    {
     "name": "stdout",
     "output_type": "stream",
     "text": [
      "optie 2: neem negatief\n"
     ]
    }
   ],
   "source": [
    "# importeer libraries\n",
    "from PIL import Image\n",
    "import math \n",
    "import numpy as np\n",
    "\n",
    "print(\"optie 2: neem negatief\")\n",
    "\n",
    "# converteer een ingelezen afbeelding naar drie matrices\n",
    "input_image = Image.open(\"./beeld/landschap5.jpg\")\n",
    "r_image_in, g_image_in, b_image_in = input_image.split()\n",
    "r_in = np.uint32(np.array(r_image_in))\n",
    "g_in = np.uint32(np.array(g_image_in))\n",
    "b_in = np.uint32(np.array(b_image_in))\n",
    "\n",
    "#-----------------------------------------------------------------------------------------\n",
    "# hier komen de matrixbewerkingen\n",
    "\n",
    "r_out = np.zeros((r_in.shape[0], r_in.shape[1]))\n",
    "g_out = np.zeros((g_in.shape[0], g_in.shape[1]))\n",
    "b_out = np.zeros((b_in.shape[0], b_in.shape[1]))\n",
    "\n",
    "for i in range(r_out.shape[0]):\n",
    "    for j in range(r_out.shape[1]):\n",
    "        r_out[i][j] = 255 - r_in[i][j]\n",
    "        g_out[i][j] = 255 - g_in[i][j]\n",
    "        b_out[i][j] = 255 - b_in[i][j]\n",
    "\n",
    "#-----------------------------------------------------------------------------------------\n",
    "\n",
    "# converteer drie matrices terug naar een afbeelding\n",
    "r_image_out = Image.fromarray(np.uint8(r_out))\n",
    "g_image_out = Image.fromarray(np.uint8(g_out))\n",
    "b_image_out = Image.fromarray(np.uint8(b_out))\n",
    "output_im = Image.merge(\"RGB\", (r_image_out, g_image_out, b_image_out))\n",
    "output_im.show()"
   ]
  },
  {
   "cell_type": "markdown",
   "metadata": {},
   "source": [
    "# 3) Zwart-wit maken"
   ]
  },
  {
   "cell_type": "code",
   "execution_count": 19,
   "metadata": {},
   "outputs": [
    {
     "name": "stdout",
     "output_type": "stream",
     "text": [
      "optie 3: zwart wit maken\n"
     ]
    }
   ],
   "source": [
    "# importeer libraries\n",
    "from PIL import Image\n",
    "import math \n",
    "import numpy as np\n",
    "from statistics import mean\n",
    "\n",
    "print(\"optie 3: zwart wit maken\")\n",
    "\n",
    "# converteer een ingelezen afbeelding naar drie matrices\n",
    "input_image = Image.open(\"./beeld/landschap5.jpg\")\n",
    "r_image_in, g_image_in, b_image_in = input_image.split()\n",
    "r_in = np.uint32(np.array(r_image_in))\n",
    "g_in = np.uint32(np.array(g_image_in))\n",
    "b_in = np.uint32(np.array(b_image_in))\n",
    "\n",
    "# hier komen de matrixbewerkingen\n",
    "r_out = np.zeros((r_in.shape[0], r_in.shape[1]))\n",
    "g_out = np.zeros((g_in.shape[0], g_in.shape[1]))\n",
    "b_out = np.zeros((b_in.shape[0], b_in.shape[1]))\n",
    "\n",
    "for i in range(r_in.shape[0]):\n",
    "    for j in range(r_in.shape[1]):\n",
    "        gemiddelde = mean([r_in[i][j], g_in[i][j], b_in[i][j]])\n",
    "        r_out [i][j] = gemiddelde\n",
    "        g_out [i][j] = gemiddelde\n",
    "        b_out [i][j] = gemiddelde\n",
    "\n",
    "\n",
    "# converteer drie matrices terug naar een afbeelding\n",
    "r_image_out = Image.fromarray(np.uint8(r_out))\n",
    "g_image_out = Image.fromarray(np.uint8(g_out))\n",
    "b_image_out = Image.fromarray(np.uint8(b_out))\n",
    "output_im = Image.merge(\"RGB\", (r_image_out, g_image_out, b_image_out))\n",
    "output_im.show()"
   ]
  },
  {
   "cell_type": "markdown",
   "metadata": {},
   "source": [
    "# 4) Verduisteren"
   ]
  },
  {
   "cell_type": "code",
   "execution_count": 23,
   "metadata": {},
   "outputs": [
    {
     "name": "stdout",
     "output_type": "stream",
     "text": [
      "optie 5: verduisteren\n"
     ]
    }
   ],
   "source": [
    "# importeer libraries\n",
    "from PIL import Image\n",
    "import math \n",
    "import numpy as np\n",
    "\n",
    "print(\"optie 5: verduisteren\")\n",
    "\n",
    "# converteer een ingelezen afbeelding naar drie matrices\n",
    "input_image = Image.open(\"./beeld/landschap5.jpg\")\n",
    "r_image_in, g_image_in, b_image_in = input_image.split()\n",
    "r_in = np.uint32(np.array(r_image_in))\n",
    "g_in = np.uint32(np.array(g_image_in))\n",
    "b_in = np.uint32(np.array(b_image_in))\n",
    "\n",
    "# hier komen de matrixbewerkingen\n",
    "r_out = np.zeros((r_in.shape[0], r_in.shape[1]))\n",
    "g_out = np.zeros((g_in.shape[0], g_in.shape[1]))\n",
    "b_out = np.zeros((b_in.shape[0], b_in.shape[1]))\n",
    "\n",
    "factor = int(input(\"Geef de gewenste verduistering in\"))\n",
    "\n",
    "for i in range(r_out.shape[0]):\n",
    "    for j in range(r_out.shape[1]):\n",
    "        r_out [i][j] = r_in [i][j] / factor\n",
    "        g_out [i][j] = g_in [i][j] / factor\n",
    "        b_out [i][j] = b_in [i][j] / factor\n",
    "\n",
    "# converteer drie matrices terug naar een afbeelding\n",
    "r_image_out = Image.fromarray(np.uint8(r_out))\n",
    "g_image_out = Image.fromarray(np.uint8(g_out))\n",
    "b_image_out = Image.fromarray(np.uint8(b_out))\n",
    "output_im = Image.merge(\"RGB\", (r_image_out, g_image_out, b_image_out))\n",
    "output_im.show()"
   ]
  },
  {
   "cell_type": "markdown",
   "metadata": {},
   "source": [
    "# 6.1) 90 graden roteren"
   ]
  },
  {
   "cell_type": "code",
   "execution_count": 26,
   "metadata": {},
   "outputs": [],
   "source": [
    "# importeer libraries\n",
    "from PIL import Image\n",
    "import math \n",
    "import numpy as np\n",
    "\n",
    "# converteer een ingelezen afbeelding naar drie matrices\n",
    "input_image = Image.open(\"./beeld/landschap1.jpg\")\n",
    "r_image_in, g_image_in, b_image_in = input_image.split()\n",
    "r_in = np.uint32(np.array(r_image_in))\n",
    "g_in = np.uint32(np.array(g_image_in))\n",
    "b_in = np.uint32(np.array(b_image_in))\n",
    "\n",
    "# hier komen de matrixbewerkingen\n",
    "r_out = np.zeros((r_in.shape[1], r_in.shape[0]))\n",
    "g_out = np.zeros((g_in.shape[1], g_in.shape[0]))\n",
    "b_out = np.zeros((b_in.shape[1], b_in.shape[0]))\n",
    "\n",
    "for i in range(r_out.shape[0]):\n",
    "    for j in range(r_out.shape[1]):\n",
    "        r_out[i][j] = r_in[r_out.shape[1]-1-j][i]\n",
    "        g_out[i][j] = g_in[r_out.shape[1]-1-j][i]\n",
    "        b_out[i][j] = b_in[r_out.shape[1]-1-j][i]\n",
    "\n",
    "# converteer drie matrices terug naar een afbeelding\n",
    "r_image_out = Image.fromarray(np.uint8(r_out))\n",
    "g_image_out = Image.fromarray(np.uint8(g_out))\n",
    "b_image_out = Image.fromarray(np.uint8(b_out))\n",
    "output_im = Image.merge(\"RGB\", (r_image_out, g_image_out, b_image_out))\n",
    "output_im.show()"
   ]
  },
  {
   "cell_type": "markdown",
   "metadata": {},
   "source": [
    "## Uitleg over het roteren\n",
    "\n",
    "Ervan uitgaande dat r_out, g_out en b_out respectievelijk de rode, groene en blauwe kanalen van een uitvoerafbeelding vertegenwoordigen en dat r_in, g_in en b_in de rode, groene en blauwe kanalen van een invoerafbeelding vertegenwoordigen:\n",
    "\n",
    "voor i in range(r_out.shape[0]): en voor j in range(r_out.shape[1]): itereren door de rijen en kolommen van de uitvoerafbeelding.\n",
    "\n",
    "r_out[i][j] = r_in[r_in.shape[0]-j-1][i]: Deze regel wijst de waarde van de pixel op positie [r_in.shape[0]-j-1][i] in het rode invoerkanaal (r_in) toe aan de pixel op positie [i][j] in het rode uitvoerkanaal (r_out). Het lijkt een rotatie- of transformatiebewerking uit te voeren waarbij de pixels van de invoerafbeelding worden herschikt in de uitvoerafbeelding.\n",
    "\n",
    "r_in.shape[0] vertegenwoordigt het aantal rijen in het rode invoerkanaal.\n",
    "r_in.shape[1] staat voor het aantal kolommen in het rode invoerkanaal.\n",
    "r_out[i][j], g_out[i][j], en b_out[i][j] vertegenwoordigen de pixel op positie [i][j] in respectievelijk het rode, groene en blauwe uitvoerkanaal.\n",
    "r_in[r_in.shape[0]-j-1][i], g_in[r_in.shape[0]-j-1][i], en b_in[r_in.shape[0]-j-1][i] vertegenwoordigen de pixelwaarden die worden genomen van de invoer rode, groene en blauwe kanalen, maar geroteerd of getransformeerd voor de toewijzing.\n",
    "Dit codefragment voert een transformatie op pixelniveau uit door pixels van de invoerafbeelding te herschikken om een getransformeerde uitvoerafbeelding te maken. De exacte transformatie die wordt toegepast lijkt een rotatie- of omdraaibewerking te zijn, gebaseerd op de indexerings- en toewijzingslogica die wordt gebruikt binnen de geneste lussen.\n"
   ]
  },
  {
   "cell_type": "markdown",
   "metadata": {},
   "source": [
    "# 6.2) 180 graden roteren"
   ]
  },
  {
   "cell_type": "code",
   "execution_count": null,
   "metadata": {},
   "outputs": [],
   "source": []
  }
 ],
 "metadata": {
  "kernelspec": {
   "display_name": "Python 3",
   "language": "python",
   "name": "python3"
  },
  "language_info": {
   "codemirror_mode": {
    "name": "ipython",
    "version": 3
   },
   "file_extension": ".py",
   "mimetype": "text/x-python",
   "name": "python",
   "nbconvert_exporter": "python",
   "pygments_lexer": "ipython3",
   "version": "3.11.7"
  }
 },
 "nbformat": 4,
 "nbformat_minor": 2
}
