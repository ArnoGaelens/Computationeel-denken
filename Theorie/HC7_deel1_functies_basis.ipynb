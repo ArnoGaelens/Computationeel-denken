{
 "cells": [
  {
   "cell_type": "code",
   "execution_count": 2,
   "metadata": {},
   "outputs": [
    {
     "name": "stdout",
     "output_type": "stream",
     "text": [
      "appel banaan\n",
      "kers kers\n",
      "kers mango\n",
      "appel = appel\n",
      "banaan = banaan\n",
      "kers = kers\n",
      "doerian = doerian\n"
     ]
    }
   ],
   "source": [
    "appel = \"appel\"\n",
    "banaan = \"banaan\"\n",
    "kers = \"kers\"\n",
    "doerian = \"doerian\"\n",
    "def printfruit_1 ():\n",
    "    print( appel , banaan )\n",
    "\n",
    "def printfruit_2( appel ):\n",
    "    banaan = kers\n",
    "    print( appel , banaan )\n",
    "\n",
    "def printfruit_3( appel , banaan ):\n",
    "    kers = \"mango\"\n",
    "    banaan = kers\n",
    "    print( appel , banaan )\n",
    "\n",
    "printfruit_1 ()\n",
    "printfruit_2( kers )\n",
    "printfruit_3( kers , doerian )\n",
    "print( \"appel =\", appel )\n",
    "print( \"banaan =\", banaan )\n",
    "print( \"kers =\", kers )\n",
    "print( \"doerian =\", doerian )"
   ]
  },
  {
   "cell_type": "markdown",
   "metadata": {},
   "source": [
    "Hoofdprogramma: \n",
    "4 globals \n",
    "    appel = \"appel\"\n",
    "    banaan = \"banaan\"   \n",
    "    kers = \"kers\"\n",
    "    doerian = \"doerian\"\n",
    "\n",
    "Printfruit1:\n",
    "0 Locals:\n",
    "    Dus globals wordt gebruikt\n",
    "\n",
    "Printfruit2:\n",
    "2 Locals:\n",
    "    Appel = \"kers\" (hierom: printfruit_2( kers ))\n",
    "    banaan = \"kers(global)\"\n",
    "\n",
    "Printfruit3:\n",
    "3 Locals:\n",
    "    2 parameters:\n",
    "        Appel  = \"kers\"\n",
    "        Banaan\"= \"kers\"\n",
    "    1 Local:\n",
    "        Banaan\n",
    "\n",
    "LOGISCH NADENKEN\n",
    "    \n",
    "\n"
   ]
  },
  {
   "cell_type": "code",
   "execution_count": 3,
   "metadata": {},
   "outputs": [
    {
     "name": "stdout",
     "output_type": "stream",
     "text": [
      "appel\n",
      "banaan\n"
     ]
    }
   ],
   "source": [
    "fruit = \"appel\"\n",
    "\n",
    "def wijzigFruit():\n",
    "    global fruit\n",
    "    fruit = \"banaan\"\n",
    "\n",
    "print(fruit)\n",
    "wijzigFruit()\n",
    "print(fruit)"
   ]
  },
  {
   "cell_type": "markdown",
   "metadata": {},
   "source": []
  },
  {
   "cell_type": "code",
   "execution_count": 2,
   "metadata": {},
   "outputs": [
    {
     "name": "stdout",
     "output_type": "stream",
     "text": [
      "appel\n",
      "appel\n"
     ]
    }
   ],
   "source": [
    "fruit = \"appel\"\n",
    "\n",
    "def wijzigFruit():\n",
    "    fruit = \"banaan\"\n",
    "\n",
    "print(fruit)\n",
    "wijzigFruit()\n",
    "print(fruit)"
   ]
  },
  {
   "cell_type": "markdown",
   "metadata": {},
   "source": []
  },
  {
   "cell_type": "code",
   "execution_count": 2,
   "metadata": {},
   "outputs": [
    {
     "name": "stdout",
     "output_type": "stream",
     "text": [
      "1 1\n",
      "2 8\n",
      "3 27\n",
      "4 64\n",
      "5 125\n"
     ]
    }
   ],
   "source": [
    "def cube(i):\n",
    "    j = i * i * i\n",
    "    return j\n",
    "\n",
    "getal = int(input(\"Geef een getal in:\"))\n",
    "for i in range(1, getal+1, 1):\n",
    "    print (i, cube(i))"
   ]
  },
  {
   "cell_type": "code",
   "execution_count": 3,
   "metadata": {},
   "outputs": [
    {
     "name": "stdout",
     "output_type": "stream",
     "text": [
      "1 1\n",
      "2 8\n",
      "3 27\n",
      "4 64\n",
      "5 125\n",
      "6 216\n",
      "7 343\n"
     ]
    }
   ],
   "source": [
    "def cube(i):\n",
    "    i = i * i * i\n",
    "    return i\n",
    "\n",
    "getal = int(input(\"Geef een getal in:\"))\n",
    "for i in range(1, getal+1, 1):\n",
    "    print (i, cube(i))"
   ]
  },
  {
   "cell_type": "code",
   "execution_count": 4,
   "metadata": {},
   "outputs": [
    {
     "name": "stdout",
     "output_type": "stream",
     "text": [
      "1 None\n",
      "2 None\n",
      "3 None\n",
      "4 None\n",
      "5 None\n",
      "6 None\n"
     ]
    }
   ],
   "source": [
    "def cube(i):\n",
    "    i = i * i * i\n",
    "    \n",
    "getal = int(input(\"Geef een getal in:\"))\n",
    "for i in range(1, getal+1, 1):\n",
    "    print (i, cube(i))"
   ]
  },
  {
   "cell_type": "code",
   "execution_count": null,
   "metadata": {},
   "outputs": [],
   "source": [
    "hallo = \"Hallo!\"\n",
    "totziens = \"Tot ziens!\"\n",
    "for i in range (3):\n",
    "    for j in range (2):\n",
    "        middag = \"Goedemiddag\"\n",
    "        print(totziens)\n",
    "    print(j)\n",
    "    print(hallo) \n",
    "    print(middag)\n",
    "print(i)\n",
    "print(j)\n",
    "print(middag)"
   ]
  },
  {
   "cell_type": "code",
   "execution_count": null,
   "metadata": {},
   "outputs": [],
   "source": [
    "dubbeltje = \"dubbeltje\"\n",
    "\n",
    "def geboren ():\n",
    "    print(\"Als je voor een\", dubbeltje, \"geboren wordt,\", \"dan wordt je nooit een\", kwartje)\n",
    "\n",
    "kwartje = \"kwartje\"\n",
    "geboren ()\n",
    "print(\"dubbeltje =\", dubbeltje, \"en kwartje =\", kwartje)"
   ]
  },
  {
   "cell_type": "code",
   "execution_count": null,
   "metadata": {},
   "outputs": [],
   "source": [
    "x = \"hello\"\n",
    "assert x == \"hello\", \"x should be hello\""
   ]
  },
  {
   "cell_type": "code",
   "execution_count": null,
   "metadata": {},
   "outputs": [],
   "source": [
    "dubbeltje = \"dubbeltje\"\n",
    "\n",
    "def geboren ():\n",
    "    kwartje = \"stuiver\"\n",
    "    print(\"Als je voor een\", dubbeltje, \"geboren wordt,\", \"dan wordt je nooit een\", kwartje)\n",
    "\n",
    "kwartje = \"kwartje\"\n",
    "geboren ()\n",
    "print(\"dubbeltje =\", dubbeltje, \"en kwartje =\", kwartje)"
   ]
  },
  {
   "cell_type": "code",
   "execution_count": null,
   "metadata": {},
   "outputs": [],
   "source": []
  },
  {
   "cell_type": "markdown",
   "metadata": {},
   "source": []
  }
 ],
 "metadata": {
  "kernelspec": {
   "display_name": "Python 3 (ipykernel)",
   "language": "python",
   "name": "python3"
  },
  "language_info": {
   "codemirror_mode": {
    "name": "ipython",
    "version": 3
   },
   "file_extension": ".py",
   "mimetype": "text/x-python",
   "name": "python",
   "nbconvert_exporter": "python",
   "pygments_lexer": "ipython3",
   "version": "3.12.0"
  }
 },
 "nbformat": 4,
 "nbformat_minor": 4
}
