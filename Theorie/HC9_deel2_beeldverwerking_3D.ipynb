{
 "cells": [
  {
   "cell_type": "markdown",
   "metadata": {},
   "source": [
    "## Requirements: \n",
    "* Python 3.X\n",
    "* Pillow, for installation and compatible versions please refer to: https://pillow.readthedocs.io/en/stable/installation.html"
   ]
  },
  {
   "cell_type": "code",
   "execution_count": 1,
   "metadata": {},
   "outputs": [
    {
     "name": "stdout",
     "output_type": "stream",
     "text": [
      "optie 0: kopieer beeld\n"
     ]
    }
   ],
   "source": [
    "# importeer libraries\n",
    "from PIL import Image\n",
    "import math \n",
    "import numpy as np\n",
    "\n",
    "print(\"optie 0: kopieer beeld\")\n",
    "\n",
    "# converteer een ingelezen afbeelding naar drie matrices\n",
    "input_image = Image.open(\"./beeld/landschap1.jpg\")\n",
    "complete_in = np.uint32(np.array(input_image))\n",
    "\n",
    "# hier komen de matrixbewerkingen\n",
    "complete_out = np.zeros((complete_in.shape[0], complete_in.shape[1], 3))\n",
    "for i in range(complete_out.shape[0]):\n",
    "    for j in range(complete_out.shape[1]):\n",
    "        complete_out[i][j] = complete_in[i][j]\n",
    "        \n",
    "# converteer drie matrices terug naar een afbeelding\n",
    "image_out = Image.fromarray(np.uint8(complete_out))\n",
    "image_out.show()"
   ]
  },
  {
   "cell_type": "code",
   "execution_count": 2,
   "metadata": {},
   "outputs": [
    {
     "name": "stdout",
     "output_type": "stream",
     "text": [
      "optie 1: filter kleuren weg\n"
     ]
    }
   ],
   "source": [
    "# importeer libraries\n",
    "from PIL import Image\n",
    "import math \n",
    "import numpy as np\n",
    "\n",
    "print(\"optie 1: filter kleuren weg\")\n",
    "\n",
    "# converteer een ingelezen afbeelding naar drie matrices\n",
    "input_image = Image.open(\"./beeld/landschap1.jpg\")\n",
    "complete_in = np.uint32(np.array(input_image))\n",
    "\n",
    "# hier komen de matrixbewerkingen\n",
    "complete_out = np.zeros((complete_in.shape[0], complete_in.shape[1], 3))\n",
    "for i in range(complete_out.shape[0]):\n",
    "    for j in range(complete_out.shape[1]):\n",
    "        complete_out[i][j] = (0,0, complete_in[i][j][2])\n",
    "    \n",
    "# converteer drie matrices terug naar een afbeelding\n",
    "image_out = Image.fromarray(np.uint8(complete_out))\n",
    "image_out.show()"
   ]
  },
  {
   "cell_type": "code",
   "execution_count": 3,
   "metadata": {},
   "outputs": [
    {
     "name": "stdout",
     "output_type": "stream",
     "text": [
      "optie 2: neem negatief\n"
     ]
    }
   ],
   "source": [
    "# importeer libraries\n",
    "from PIL import Image\n",
    "import math \n",
    "import numpy as np\n",
    "\n",
    "print(\"optie 2: neem negatief\")\n",
    "\n",
    "# converteer een ingelezen afbeelding naar drie matrices\n",
    "input_image = Image.open(\"./beeld/landschap1.jpg\")\n",
    "complete_in = np.uint32(np.array(input_image))\n",
    "\n",
    "# hier komen de matrixbewerkingen\n",
    "complete_out = np.zeros((complete_in.shape[0], complete_in.shape[1], 3))\n",
    "for i in range(complete_out.shape[0]):\n",
    "    for j in range(complete_out.shape[1]):\n",
    "        neg_r = 255 - complete_in[i][j][0]\n",
    "        neg_g = 255 - complete_in[i][j][1]\n",
    "        neg_b = 255 - complete_in[i][j][2]\n",
    "        complete_out[i][j] = (neg_r, neg_g, neg_b)\n",
    "    \n",
    "# converteer drie matrices terug naar een afbeelding\n",
    "image_out = Image.fromarray(np.uint8(complete_out))\n",
    "image_out.show()"
   ]
  },
  {
   "cell_type": "code",
   "execution_count": 4,
   "metadata": {},
   "outputs": [
    {
     "name": "stdout",
     "output_type": "stream",
     "text": [
      "optie 3: zwart wit maken\n"
     ]
    }
   ],
   "source": [
    "# importeer libraries\n",
    "from PIL import Image\n",
    "import math \n",
    "import numpy as np\n",
    "\n",
    "print(\"optie 3: zwart wit maken\")\n",
    "\n",
    "# converteer een ingelezen afbeelding naar drie matrices\n",
    "input_image = Image.open(\"./beeld/landschap1.jpg\")\n",
    "complete_in = np.uint32(np.array(input_image))\n",
    "\n",
    "# hier komen de matrixbewerkingen\n",
    "complete_out = np.zeros((complete_in.shape[0], complete_in.shape[1], 3))\n",
    "for i in range(complete_out.shape[0]):\n",
    "    for j in range(complete_out.shape[1]):\n",
    "        average = (complete_in[i][j][0] + complete_in[i][j][1] + complete_in[i][j][2]) / 3\n",
    "        if average > 128:\n",
    "            complete_out[i][j] = (255, 255, 255)\n",
    "        else: \n",
    "            complete_out[i][j] = (0, 0, 0)\n",
    "# converteer drie matrices terug naar een afbeelding\n",
    "image_out = Image.fromarray(np.uint8(complete_out))\n",
    "image_out.show()"
   ]
  },
  {
   "cell_type": "code",
   "execution_count": null,
   "metadata": {},
   "outputs": [],
   "source": [
    "# importeer libraries\n",
    "from PIL import Image\n",
    "import math \n",
    "import numpy as np\n",
    "\n",
    "print(\"optie 4: grijswaarden\")\n",
    "\n",
    "# converteer een ingelezen afbeelding naar drie matrices\n",
    "input_image = Image.open(\"./beeld/landschap1.jpg\")\n",
    "complete_in = np.uint32(np.array(input_image))\n",
    "\n",
    "# hier komen de matrixbewerkingen\n",
    "complete_out = np.zeros((complete_in.shape[0], complete_in.shape[1], 3))\n",
    "for i in range(complete_out.shape[0]):\n",
    "    for j in range(complete_out.shape[1]):\n",
    "        average = (complete_in[i][j][0] + complete_in[i][j][1] + complete_in[i][j][2]) / 3\n",
    "        complete_out[i][j] = (average, average, average)\n",
    "    \n",
    "# converteer drie matrices terug naar een afbeelding\n",
    "image_out = Image.fromarray(np.uint8(complete_out))\n",
    "image_out.show()"
   ]
  },
  {
   "cell_type": "code",
   "execution_count": null,
   "metadata": {},
   "outputs": [],
   "source": [
    "# importeer libraries\n",
    "from PIL import Image\n",
    "import math \n",
    "import numpy as np\n",
    "\n",
    "print(\"optie 5: verduisteren\")\n",
    "\n",
    "# converteer een ingelezen afbeelding naar drie matrices\n",
    "input_image = Image.open(\"./beeld/landschap1.jpg\")\n",
    "complete_in = np.uint32(np.array(input_image))\n",
    "\n",
    "factor = 0.5\n",
    "\n",
    "# hier komen de matrixbewerkingen\n",
    "complete_out = np.zeros((complete_in.shape[0], complete_in.shape[1], 3))\n",
    "for i in range(complete_out.shape[0]):\n",
    "    for j in range(complete_out.shape[1]):\n",
    "          complete_out[i][j] = factor * complete_in[i][j]\n",
    "    \n",
    "# converteer drie matrices terug naar een afbeelding\n",
    "image_out = Image.fromarray(np.uint8(complete_out))\n",
    "image_out.show()"
   ]
  },
  {
   "cell_type": "code",
   "execution_count": null,
   "metadata": {},
   "outputs": [],
   "source": [
    "# importeer libraries\n",
    "from PIL import Image\n",
    "import math \n",
    "import numpy as np\n",
    "\n",
    "print(\"optie 6: horizontaal spiegelen\")\n",
    "\n",
    "# converteer een ingelezen afbeelding naar drie matrices\n",
    "input_image = Image.open(\"./beeld/landschap1.jpg\")\n",
    "complete_in = np.uint32(np.array(input_image))\n",
    "\n",
    "# hier komen de matrixbewerkingen\n",
    "complete_out = np.zeros((complete_in.shape[0], complete_in.shape[1], 3))\n",
    "for i in range(complete_out.shape[0]):\n",
    "    for j in range(complete_out.shape[1]):\n",
    "          complete_out[i][j] = complete_in[complete_in.shape[0]-1-i][j]\n",
    "    \n",
    "# converteer drie matrices terug naar een afbeelding\n",
    "image_out = Image.fromarray(np.uint8(complete_out))\n",
    "image_out.show()"
   ]
  },
  {
   "cell_type": "code",
   "execution_count": null,
   "metadata": {},
   "outputs": [],
   "source": [
    "# importeer libraries\n",
    "from PIL import Image\n",
    "import math \n",
    "import numpy as np\n",
    "\n",
    "print(\"optie 7: een beeld roteren\")\n",
    "\n",
    "# converteer een ingelezen afbeelding naar drie matrices\n",
    "input_image = Image.open(\"./beeld/landschap1.jpg\")\n",
    "complete_in = np.uint32(np.array(input_image))\n",
    "\n",
    "# hier komen de matrixbewerkingen\n",
    "complete_out = np.zeros((complete_in.shape[1], complete_in.shape[0], 3))\n",
    "for i in range(complete_out.shape[0]):\n",
    "    for j in range(complete_out.shape[1]):\n",
    "          complete_out[i][j] = complete_in[complete_in.shape[0]-j-1][i] \n",
    "    \n",
    "# converteer drie matrices terug naar een afbeelding\n",
    "image_out = Image.fromarray(np.uint8(complete_out))\n",
    "image_out.show()"
   ]
  },
  {
   "cell_type": "code",
   "execution_count": 1,
   "metadata": {},
   "outputs": [
    {
     "name": "stdout",
     "output_type": "stream",
     "text": [
      "optie 11: edge detection\n"
     ]
    },
    {
     "name": "stderr",
     "output_type": "stream",
     "text": [
      "<ipython-input-1-2d188a7ef411>:18: RuntimeWarning: overflow encountered in ulong_scalars\n",
      "  vert_complete_out[i][j][0] = - complete_in[i - 1][j-1][0] + complete_in[i -1 ][j + 1][0] - 2 * complete_in[i][j-1][0] + 2 * complete_in[i][j + 1][0] -  complete_in[i + 1][j -1][0] +  complete_in[i + 1][j + 1][0]\n",
      "<ipython-input-1-2d188a7ef411>:19: RuntimeWarning: overflow encountered in ulong_scalars\n",
      "  vert_complete_out[i][j][1] = - complete_in[i - 1][j-1][1] + complete_in[i -1 ][j + 1][1] - 2 * complete_in[i][j-1][1] + 2 * complete_in[i][j + 1][1] -  complete_in[i + 1][j -1][1] +  complete_in[i + 1][j + 1][1]\n",
      "<ipython-input-1-2d188a7ef411>:20: RuntimeWarning: overflow encountered in ulong_scalars\n",
      "  vert_complete_out[i][j][2] = - complete_in[i - 1][j-1][2] + complete_in[i -1 ][j + 1][2] - 2 * complete_in[i][j-1][2] + 2 * complete_in[i][j + 1][2] -  complete_in[i + 1][j -1][2] +  complete_in[i + 1][j + 1][2]\n"
     ]
    }
   ],
   "source": [
    "# importeer libraries\n",
    "from PIL import Image\n",
    "import math \n",
    "import numpy as np\n",
    "\n",
    "print(\"optie 11: edge detection\")\n",
    "\n",
    "# converteer een ingelezen afbeelding naar drie matrices\n",
    "input_image = Image.open(\"./beeld/landschap1.jpg\")\n",
    "input_image.show()\n",
    "complete_in = np.uint32(np.array(input_image))\n",
    "\n",
    "# hier komen de matrixbewerkingen\n",
    "complete_out = np.zeros((complete_in.shape[0], complete_in.shape[1], 3))\n",
    "\n",
    "for i in range(1, complete_out.shape[0] - 2, 1):\n",
    "    for j in range(1, complete_out.shape[1] - 2, 1):\n",
    "        vert_pixel_out = [0, 0, 0]\n",
    "        hor_pixel_out = [0, 0, 0]\n",
    "        \n",
    "        vert_pixel_out[0] = - complete_in[i - 1][j-1][0] + complete_in[i -1 ][j + 1][0] - 2 * complete_in[i][j-1][0] + 2 * complete_in[i][j + 1][0] -  complete_in[i + 1][j -1][0] +  complete_in[i + 1][j + 1][0]\n",
    "        vert_complete_out[1] = - complete_in[i - 1][j-1][1] + complete_in[i -1 ][j + 1][1] - 2 * complete_in[i][j-1][1] + 2 * complete_in[i][j + 1][1] -  complete_in[i + 1][j -1][1] +  complete_in[i + 1][j + 1][1]\n",
    "        vert_complete_out[2] = - complete_in[i - 1][j-1][2] + complete_in[i -1 ][j + 1][2] - 2 * complete_in[i][j-1][2] + 2 * complete_in[i][j + 1][2] -  complete_in[i + 1][j -1][2] +  complete_in[i + 1][j + 1][2]\n",
    "        \n",
    "        hor_pixel_out[0] = - complete_in[i - 1][j-1][0] + complete_in[i -1 ][j + 1][0] - 2 * complete_in[i][j-1][0] + 2 * complete_in[i][j + 1][0] -  complete_in[i + 1][j -1][0] +  complete_in[i + 1][j + 1][0]\n",
    "        hor_pixel_out[1] = - complete_in[i - 1][j-1][1] + complete_in[i -1 ][j + 1][1] - 2 * complete_in[i][j-1][1] + 2 * complete_in[i][j + 1][1] -  complete_in[i + 1][j -1][1] +  complete_in[i + 1][j + 1][1]\n",
    "        hor_pixel_out[2] = - complete_in[i - 1][j-1][2] + complete_in[i -1 ][j + 1][2] - 2 * complete_in[i][j-1][2] + 2 * complete_in[i][j + 1][2] -  complete_in[i + 1][j -1][2] +  complete_in[i + 1][j + 1][2]\n",
    "        \n",
    "        complete_out[i][j] = vert_complete_out[complete_in.shape[0]-j-1][i] \n",
    "    \n",
    "# converteer drie matrices terug naar een afbeelding\n",
    "image_out = Image.fromarray(np.uint8(complete_out))\n",
    "image_out.show()"
   ]
  },
  {
   "cell_type": "code",
   "execution_count": null,
   "metadata": {},
   "outputs": [],
   "source": []
  }
 ],
 "metadata": {
  "kernelspec": {
   "display_name": "Python 3 (ipykernel)",
   "language": "python",
   "name": "python3"
  },
  "language_info": {
   "codemirror_mode": {
    "name": "ipython",
    "version": 3
   },
   "file_extension": ".py",
   "mimetype": "text/x-python",
   "name": "python",
   "nbconvert_exporter": "python",
   "pygments_lexer": "ipython3",
   "version": "3.10.6"
  }
 },
 "nbformat": 4,
 "nbformat_minor": 2
}
